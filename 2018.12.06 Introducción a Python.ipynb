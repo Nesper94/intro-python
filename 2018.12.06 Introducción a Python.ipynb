{
 "cells": [
  {
   "cell_type": "markdown",
   "metadata": {},
   "source": [
    "<h1> <center>\n",
    "    Introducción a Python\n",
    " </center> </h1>\n",
    " \n",
    " ![image.png](figuras/python-logo.svg)\n",
    " \n",
    " <h2> <center>\n",
    "    ¿Por qué Python?\n",
    "    </center> </h2>\n",
    "    \n",
    "- ### Fácil de aprender.\n",
    "- ### Es un lenguaje interpretado, no es necesario compilar.\n",
    "- ### Lenguaje de alto nivel, corre en todos los principales sistemas operativos.\n",
    "- ### LEGIBILIDAD y sintaxis intuitiva.\n",
    "- ### Es ampliamente usado y... ¡GRATUITO!"
   ]
  },
  {
   "cell_type": "markdown",
   "metadata": {},
   "source": [
    "<h3><center>\n",
    "Guido van Rossum - Creador de Python\n",
    "</h3></center>\n",
    "\n",
    "![Guido van Rossum](figuras/Guido_van_Rossum_2006.jpg)\n",
    "\n",
    "![image.png](figuras/monty-python.png)"
   ]
  },
  {
   "cell_type": "markdown",
   "metadata": {},
   "source": [
    "<h1><center>\n",
    "¿Por qué usar Python?\n",
    "</center> </h1>\n",
    "\n",
    "![image.png](figuras/biopython.png)\n",
    "\n",
    "![Imagen de XKCD](figuras/xkcd-python.png)\n",
    "\n",
    "<h1><center>\n",
    "El entorno Jupyter hace Python más amigable\n",
    "</center> </h1>\n",
    "\n",
    "El entorno Jupyter fue creado por [Fernando Pérez](https://es.wikipedia.org/wiki/Fernando_P%C3%A9rez_%28programador%29).\n",
    "![Fernando Pérez](figuras/Fernando_Perez.jpg)"
   ]
  },
  {
   "cell_type": "markdown",
   "metadata": {},
   "source": [
    "<h2><center>\n",
    "Veamos el Zen de Python\n",
    "</h2></center>"
   ]
  },
  {
   "cell_type": "code",
   "execution_count": null,
   "metadata": {},
   "outputs": [],
   "source": [
    "import this"
   ]
  },
  {
   "cell_type": "markdown",
   "metadata": {},
   "source": [
    "___\n",
    "<h1><center>Tipos de objetos en Python (Clases principales)</h1></center>\n",
    "\n",
    "---\n",
    "- ## [Números](#num)\n",
    " - ### [Enteros](#int)\n",
    " - ### [Flotantes](#float)\n",
    " - ### [Complejos](#complex)\n",
    "- ## [Booleano](#bool)\n",
    "- ## [¿Cómo obtener ayuda?](#ayuda)\n",
    "- ## [Cadenas de texto (Strings)](#str)\n",
    "- ## [Estructuras de control](#control)\n",
    " - ### [If](#if)\n",
    " - ### [While](#while)\n",
    " - ### [For](#for)\n",
    "- ## [Listas](#list)\n",
    "- ## [Diccionarios](#dic)\n",
    "- ## [Tuplas](#tup)\n",
    "- ## [Conjuntos](#sets)\n",
    "---\n",
    "[Frase de Beethoven](#beto)"
   ]
  },
  {
   "cell_type": "markdown",
   "metadata": {},
   "source": [
    "------\n",
    "<h1><center>Funciones y clases</center></h1>\n",
    "* ## [Funciones](#funciones)\n",
    " * ### [Recursividad](#recursividad)\n",
    " * ### [Funciones generadoras](#fungen)\n",
    " * ### [Funciones lambda](#lambda)\n",
    "* ## [Importando módulos](#import)\n",
    "* ## [Clases](#clases)"
   ]
  },
  {
   "cell_type": "markdown",
   "metadata": {},
   "source": [
    "---\n",
    "<h1><center>\n",
    "<a name='num'></a> Números \n",
    "</h1></center>\n",
    "\n",
    "## Enteros (Integers): ℤ <a name='int'></a>"
   ]
  },
  {
   "cell_type": "code",
   "execution_count": null,
   "metadata": {
    "collapsed": true
   },
   "outputs": [],
   "source": [
    "x = 9 #Esto es una asignación. Aquí definimos una variable 'x' igual a 9"
   ]
  },
  {
   "cell_type": "code",
   "execution_count": null,
   "metadata": {},
   "outputs": [],
   "source": [
    "type(x)"
   ]
  },
  {
   "cell_type": "code",
   "execution_count": null,
   "metadata": {},
   "outputs": [],
   "source": [
    "x,y,z = 1,2,3\n",
    "print(x, y, z)"
   ]
  },
  {
   "cell_type": "markdown",
   "metadata": {},
   "source": [
    "## Punto flotante (Float):<a name='float'></a>"
   ]
  },
  {
   "cell_type": "code",
   "execution_count": null,
   "metadata": {},
   "outputs": [],
   "source": [
    "y = 4.5 #Definimos una variable 'y' igual a 4.5\n",
    "type(y)"
   ]
  },
  {
   "cell_type": "code",
   "execution_count": null,
   "metadata": {},
   "outputs": [],
   "source": [
    "x = 9.0\n",
    "type(x)"
   ]
  },
  {
   "cell_type": "markdown",
   "metadata": {},
   "source": [
    "## Complejos: ℂ<a name='complex'></a>"
   ]
  },
  {
   "cell_type": "code",
   "execution_count": null,
   "metadata": {},
   "outputs": [],
   "source": [
    "c = 4 + 9j #No se usa la notación matemática usual para la parte imaginaria (i), sino la notación de los ingenieros (j).\n",
    "type(c)"
   ]
  },
  {
   "cell_type": "markdown",
   "metadata": {},
   "source": [
    "### Operaciones numéricas\n",
    "---\n",
    "#### Suma:"
   ]
  },
  {
   "cell_type": "code",
   "execution_count": null,
   "metadata": {},
   "outputs": [],
   "source": [
    "9 + 1"
   ]
  },
  {
   "cell_type": "markdown",
   "metadata": {},
   "source": [
    "#### Resta:"
   ]
  },
  {
   "cell_type": "code",
   "execution_count": null,
   "metadata": {},
   "outputs": [],
   "source": [
    "9 - 1"
   ]
  },
  {
   "cell_type": "markdown",
   "metadata": {},
   "source": [
    "#### Multiplicación:"
   ]
  },
  {
   "cell_type": "code",
   "execution_count": null,
   "metadata": {},
   "outputs": [],
   "source": [
    "9 * 9"
   ]
  },
  {
   "cell_type": "markdown",
   "metadata": {},
   "source": [
    "#### División:"
   ]
  },
  {
   "cell_type": "code",
   "execution_count": null,
   "metadata": {},
   "outputs": [],
   "source": [
    "27 / 3"
   ]
  },
  {
   "cell_type": "markdown",
   "metadata": {},
   "source": [
    "#### Exponenciación - Potenciación:"
   ]
  },
  {
   "cell_type": "code",
   "execution_count": null,
   "metadata": {},
   "outputs": [],
   "source": [
    "9 ** 2"
   ]
  },
  {
   "cell_type": "markdown",
   "metadata": {},
   "source": [
    "#### División piso:"
   ]
  },
  {
   "cell_type": "code",
   "execution_count": null,
   "metadata": {},
   "outputs": [],
   "source": [
    "18 // 4"
   ]
  },
  {
   "cell_type": "markdown",
   "metadata": {},
   "source": [
    "#### Módulo:"
   ]
  },
  {
   "cell_type": "code",
   "execution_count": null,
   "metadata": {},
   "outputs": [],
   "source": [
    "4 % 2"
   ]
  },
  {
   "cell_type": "markdown",
   "metadata": {},
   "source": [
    "<td> <img src='figuras/reloj.gif' /> </td>\n",
    "<td> <img src='figuras/modular-arit.jpg' /> </td>"
   ]
  },
  {
   "cell_type": "markdown",
   "metadata": {},
   "source": [
    "---\n",
    "<h1><center>\n",
    "    <a name='bool'></a>Booleano\n",
    "</center></h1>"
   ]
  },
  {
   "cell_type": "code",
   "execution_count": null,
   "metadata": {},
   "outputs": [],
   "source": [
    "True and False"
   ]
  },
  {
   "cell_type": "code",
   "execution_count": null,
   "metadata": {},
   "outputs": [],
   "source": [
    "True or False"
   ]
  },
  {
   "cell_type": "code",
   "execution_count": null,
   "metadata": {},
   "outputs": [],
   "source": [
    "False or False"
   ]
  },
  {
   "cell_type": "markdown",
   "metadata": {},
   "source": [
    "#### ¡En realidad son enteros disfrazados!"
   ]
  },
  {
   "cell_type": "code",
   "execution_count": null,
   "metadata": {},
   "outputs": [],
   "source": [
    "True + True"
   ]
  },
  {
   "cell_type": "code",
   "execution_count": null,
   "metadata": {},
   "outputs": [],
   "source": [
    "9 * True #True es en realidad el número..."
   ]
  },
  {
   "cell_type": "code",
   "execution_count": null,
   "metadata": {},
   "outputs": [],
   "source": [
    "9 * False #False es en realidad el número..."
   ]
  },
  {
   "cell_type": "markdown",
   "metadata": {},
   "source": [
    "## Tests"
   ]
  },
  {
   "cell_type": "markdown",
   "metadata": {},
   "source": [
    "### Igualdad (==)"
   ]
  },
  {
   "cell_type": "code",
   "execution_count": null,
   "metadata": {},
   "outputs": [],
   "source": [
    "4 == 4 #Aquí estamos viendo si 4 es igual a 4"
   ]
  },
  {
   "cell_type": "code",
   "execution_count": null,
   "metadata": {},
   "outputs": [],
   "source": [
    "x == 3"
   ]
  },
  {
   "cell_type": "markdown",
   "metadata": {},
   "source": [
    "### Diferencia (!=)"
   ]
  },
  {
   "cell_type": "code",
   "execution_count": null,
   "metadata": {},
   "outputs": [],
   "source": [
    "9 != 9 #¿Es 9 diferente de 9?"
   ]
  },
  {
   "cell_type": "markdown",
   "metadata": {},
   "source": [
    "### Mayor qué (>)"
   ]
  },
  {
   "cell_type": "code",
   "execution_count": null,
   "metadata": {},
   "outputs": [],
   "source": [
    "9 > 5 #¿Es 9 mayor que 5?"
   ]
  },
  {
   "cell_type": "markdown",
   "metadata": {},
   "source": [
    "### Menor qué (<)"
   ]
  },
  {
   "cell_type": "code",
   "execution_count": null,
   "metadata": {},
   "outputs": [],
   "source": [
    "2 < 1 #¿Es 2 menor que 1?"
   ]
  },
  {
   "cell_type": "markdown",
   "metadata": {},
   "source": [
    "## Está en (in)"
   ]
  },
  {
   "cell_type": "code",
   "execution_count": null,
   "metadata": {},
   "outputs": [],
   "source": [
    "'TATA' in 'AATTAGAGACGATCAAATTTAAATGTATATCATTACAGTTCATGCATTTGTAATAATTTTT'\n",
    "#¿Está la secuencia TATA en esta secuencia de DNA?"
   ]
  },
  {
   "cell_type": "code",
   "execution_count": null,
   "metadata": {},
   "outputs": [],
   "source": [
    "'9' in '1972'"
   ]
  },
  {
   "cell_type": "code",
   "execution_count": null,
   "metadata": {},
   "outputs": [],
   "source": [
    "str(9)"
   ]
  },
  {
   "cell_type": "code",
   "execution_count": null,
   "metadata": {},
   "outputs": [],
   "source": [
    "'AATTAGATATAGACGATCAAATTTATAATGTAATCATTACAGTTCATATAGCATTTGTAATAATTTTT'.count('TATA') #Con el método count podemos contar\n",
    "#el número de veces que aparece una subcadena en una cadena más grande."
   ]
  },
  {
   "cell_type": "markdown",
   "metadata": {},
   "source": [
    "<h1><center><a name='ayuda'></a>¿Cómo obtener ayuda sobre clases, funciones, etc.?</h1></center>"
   ]
  },
  {
   "cell_type": "code",
   "execution_count": null,
   "metadata": {},
   "outputs": [],
   "source": [
    "help(complex) #El comando help() nos muestra qué funciones podemos usar y cómo hacerlo."
   ]
  },
  {
   "cell_type": "code",
   "execution_count": null,
   "metadata": {},
   "outputs": [],
   "source": [
    "c = 2 + 3j\n",
    "c.conjugate()"
   ]
  },
  {
   "cell_type": "code",
   "execution_count": null,
   "metadata": {},
   "outputs": [],
   "source": [
    "c.real"
   ]
  },
  {
   "cell_type": "code",
   "execution_count": null,
   "metadata": {},
   "outputs": [],
   "source": [
    "help(str)"
   ]
  },
  {
   "cell_type": "code",
   "execution_count": null,
   "metadata": {},
   "outputs": [],
   "source": [
    "help() #También podemos ingresar a la utilidad de ayuda de Python."
   ]
  },
  {
   "cell_type": "markdown",
   "metadata": {},
   "source": [
    "<h2><center>\n",
    "Otras fuentes de ayuda\n",
    "</h2></center>\n",
    "\n",
    "<img src='figuras/python-documentation.png' width='550'/>\n",
    "<center>Mark Lutz (2013). _Learning Python_. pp. 444.</center>"
   ]
  },
  {
   "cell_type": "code",
   "execution_count": null,
   "metadata": {},
   "outputs": [],
   "source": [
    "str.__doc__"
   ]
  },
  {
   "cell_type": "code",
   "execution_count": null,
   "metadata": {},
   "outputs": [],
   "source": [
    "print(str.__doc__)"
   ]
  },
  {
   "cell_type": "markdown",
   "metadata": {},
   "source": [
    "### Código Linux:\n",
    "\n",
    "`~$ python -m pydoc -g`\n",
    "\n",
    "`~$ python3 -m pydoc -b`"
   ]
  },
  {
   "cell_type": "code",
   "execution_count": null,
   "metadata": {
    "collapsed": true
   },
   "outputs": [],
   "source": [
    "dir()"
   ]
  },
  {
   "cell_type": "code",
   "execution_count": null,
   "metadata": {},
   "outputs": [],
   "source": [
    "[i for i in dir() if not i.startswith('_')]"
   ]
  },
  {
   "cell_type": "code",
   "execution_count": null,
   "metadata": {
    "collapsed": true
   },
   "outputs": [],
   "source": [
    "dir(3 + 8j)"
   ]
  },
  {
   "cell_type": "markdown",
   "metadata": {},
   "source": [
    "---\n",
    "<h1><center>\n",
    "<a name='str'></a>\n",
    "    Cadenas de texto (Strings) </h1></center>\n",
    "\n",
    "#### Son simplemente caracteres, se crean escribiendo algo entre comillas:"
   ]
  },
  {
   "cell_type": "code",
   "execution_count": null,
   "metadata": {},
   "outputs": [],
   "source": [
    "s = 'Kakaroto' # Aquí creamos una cadena usando comillas simples.\n",
    "type(s)"
   ]
  },
  {
   "cell_type": "code",
   "execution_count": null,
   "metadata": {},
   "outputs": [],
   "source": [
    "c = \"Kakaroto\" # Aquí creamos la misma cadena usando comillas dobles.\n",
    "type(c)"
   ]
  },
  {
   "cell_type": "code",
   "execution_count": null,
   "metadata": {},
   "outputs": [],
   "source": [
    "s == c # Aquí comprobamos que el resultado es el mismo."
   ]
  },
  {
   "cell_type": "markdown",
   "metadata": {},
   "source": [
    "Para crear una cadena de varias líneas se pueden usar **comillas triples**:"
   ]
  },
  {
   "cell_type": "code",
   "execution_count": null,
   "metadata": {
    "collapsed": true
   },
   "outputs": [],
   "source": [
    "cadena = '''Faltan 5 pa las 12\n",
    "el año va a terminar\n",
    "me voy corriendo a mi casa'''"
   ]
  },
  {
   "cell_type": "code",
   "execution_count": null,
   "metadata": {},
   "outputs": [],
   "source": [
    "cadena #Aquí me muestra la cadena con un \\n, que significa que ahí hay una nueva línea."
   ]
  },
  {
   "cell_type": "code",
   "execution_count": null,
   "metadata": {},
   "outputs": [],
   "source": [
    "print(cadena) #Para ver el resultado como lo escribimos usamos el comando print()."
   ]
  },
  {
   "cell_type": "markdown",
   "metadata": {},
   "source": [
    "## Operaciones con cadenas\n",
    "### Longitud:"
   ]
  },
  {
   "cell_type": "code",
   "execution_count": null,
   "metadata": {},
   "outputs": [],
   "source": [
    "help(len)"
   ]
  },
  {
   "cell_type": "code",
   "execution_count": null,
   "metadata": {},
   "outputs": [],
   "source": [
    "len('GATTACAGTGACGTAGTA')"
   ]
  },
  {
   "cell_type": "code",
   "execution_count": null,
   "metadata": {},
   "outputs": [],
   "source": [
    "len('James Watson') #El comando len() cuenta también los espacios."
   ]
  },
  {
   "cell_type": "markdown",
   "metadata": {},
   "source": [
    "### Indexado:"
   ]
  },
  {
   "cell_type": "code",
   "execution_count": null,
   "metadata": {},
   "outputs": [],
   "source": [
    "s"
   ]
  },
  {
   "cell_type": "code",
   "execution_count": null,
   "metadata": {},
   "outputs": [],
   "source": [
    "s[0] #Aquí obtenemos el elemento con índice cero (el primero de la cadena)."
   ]
  },
  {
   "cell_type": "code",
   "execution_count": null,
   "metadata": {},
   "outputs": [],
   "source": [
    "s[-2] #También se pueden usar índices negativos, que cuentan los elementos desde el final hacia el comienzo.\n",
    "#El índice -1 es el último elemento de la cadena."
   ]
  },
  {
   "cell_type": "markdown",
   "metadata": {},
   "source": [
    "¡Recordar siempre que los índices en Python comienzan en **cero**!"
   ]
  },
  {
   "cell_type": "markdown",
   "metadata": {},
   "source": [
    "### Slicing:"
   ]
  },
  {
   "cell_type": "code",
   "execution_count": null,
   "metadata": {},
   "outputs": [],
   "source": [
    "s"
   ]
  },
  {
   "cell_type": "code",
   "execution_count": null,
   "metadata": {},
   "outputs": [],
   "source": [
    "s[1:4] #Aquí le decimos a Python que muestre del elemento con índice 1 hasta el 3."
   ]
  },
  {
   "cell_type": "code",
   "execution_count": null,
   "metadata": {},
   "outputs": [],
   "source": [
    "s[:5] #Cuando no se pone nada significa que muestre todos los elementos.\n",
    "#Aquí por ejemplo le dijimos que mostrara todos los elementos desde el principio hasta el 5."
   ]
  },
  {
   "cell_type": "code",
   "execution_count": null,
   "metadata": {},
   "outputs": [],
   "source": [
    "s[:-3] #Muestra desde el principio hasta el tercer elemento contando desde el final."
   ]
  },
  {
   "cell_type": "code",
   "execution_count": null,
   "metadata": {},
   "outputs": [],
   "source": [
    "s[-5:]"
   ]
  },
  {
   "cell_type": "code",
   "execution_count": null,
   "metadata": {},
   "outputs": [],
   "source": [
    "s[:] #Con slicing podemos hacer una copia de la cadena. Aquí le estamos diciendo que nos\n",
    "# muestre desde el primer elemento hasta el último."
   ]
  },
  {
   "cell_type": "code",
   "execution_count": null,
   "metadata": {},
   "outputs": [],
   "source": [
    "print(s) # Se puede especificar en pasos de a cuánto.\n",
    "s[::-1]"
   ]
  },
  {
   "cell_type": "markdown",
   "metadata": {},
   "source": [
    "### Concatenación:"
   ]
  },
  {
   "cell_type": "code",
   "execution_count": null,
   "metadata": {},
   "outputs": [],
   "source": [
    "s + ' von Humboldt' #Con este comando obtenemos la cadena que habíamos asignado a la variable s junto con la cadena ' Humboldt'."
   ]
  },
  {
   "cell_type": "markdown",
   "metadata": {},
   "source": [
    "### Repetición:"
   ]
  },
  {
   "cell_type": "code",
   "execution_count": null,
   "metadata": {},
   "outputs": [],
   "source": [
    "'Humboldt '*3 #Al multiplicar una cadena por 3, se concatena 3 veces la cadena."
   ]
  },
  {
   "cell_type": "markdown",
   "metadata": {},
   "source": [
    "Aquí podemos ver un ejemplo de lo que se conoce como **_Polimorfismo:_**  \n",
    "El hecho de que un operador (_e.g._ los signos + y *) se comporte de cierta manera dependiendo del objeto en el que actúa."
   ]
  },
  {
   "cell_type": "code",
   "execution_count": null,
   "metadata": {},
   "outputs": [],
   "source": [
    "s = 'GATTACA'\n",
    "s[0] = 'z' # Las cadenas son inmutables, intentar modificar un elemento conduce a un error."
   ]
  },
  {
   "cell_type": "code",
   "execution_count": null,
   "metadata": {
    "collapsed": true
   },
   "outputs": [],
   "source": [
    "lista = [1,2,3]\n",
    "lista[0] = 'z'"
   ]
  },
  {
   "cell_type": "code",
   "execution_count": null,
   "metadata": {},
   "outputs": [],
   "source": [
    "lista"
   ]
  },
  {
   "cell_type": "code",
   "execution_count": null,
   "metadata": {},
   "outputs": [],
   "source": [
    "nuevacadena = 'z' + s[1:] # Como las cadenas son inmutables, para reemplazar un elemento de una cadena debemos\n",
    "# hacer algo como esto.\n",
    "nuevacadena"
   ]
  },
  {
   "cell_type": "markdown",
   "metadata": {},
   "source": [
    "Otras operaciones o **Métodos** pueden verse con la función dir()"
   ]
  },
  {
   "cell_type": "code",
   "execution_count": null,
   "metadata": {},
   "outputs": [],
   "source": [
    "dir(s)"
   ]
  },
  {
   "cell_type": "code",
   "execution_count": null,
   "metadata": {},
   "outputs": [],
   "source": [
    "print(str.lower.__doc__)"
   ]
  },
  {
   "cell_type": "code",
   "execution_count": null,
   "metadata": {},
   "outputs": [],
   "source": [
    "'GATTACA'.lower()"
   ]
  },
  {
   "cell_type": "markdown",
   "metadata": {},
   "source": [
    "-----------\n",
    "<h1><center>\n",
    "<a name='control'></a>\n",
    "Breve paréntesis: Estructuras de control\n",
    "</h1></center>\n",
    "\n",
    "----------\n",
    "\n",
    "<h1><center>\n",
    "<a name='if'></a>\n",
    "If\n",
    "</h1></center>"
   ]
  },
  {
   "cell_type": "code",
   "execution_count": null,
   "metadata": {},
   "outputs": [],
   "source": [
    "x = 1\n",
    "if x + 1 > 4:\n",
    "    print('Chargaff')\n",
    "else:\n",
    "    print('Okazaki')"
   ]
  },
  {
   "cell_type": "code",
   "execution_count": null,
   "metadata": {},
   "outputs": [],
   "source": [
    "if x + 1 > 4:\n",
    "    print('Chargaff')\n",
    "elif x + 1 == 3:\n",
    "    print('Okazaki')\n",
    "else:\n",
    "    print('Watson')\n",
    "    "
   ]
  },
  {
   "cell_type": "markdown",
   "metadata": {},
   "source": [
    "<h1><center>\n",
    "<a name='while'></a>\n",
    "While</h1></center>"
   ]
  },
  {
   "cell_type": "code",
   "execution_count": null,
   "metadata": {},
   "outputs": [],
   "source": [
    "x = 5\n",
    "while x <= 9:\n",
    "    print(x)\n",
    "    x += 1 # Esto es lo mismo que decir x = x + 1"
   ]
  },
  {
   "cell_type": "markdown",
   "metadata": {},
   "source": [
    "<h1><center>\n",
    "<a name='for'></a>\n",
    "For</h1></center>"
   ]
  },
  {
   "cell_type": "code",
   "execution_count": null,
   "metadata": {},
   "outputs": [],
   "source": [
    "list(range(1,5))"
   ]
  },
  {
   "cell_type": "code",
   "execution_count": null,
   "metadata": {
    "scrolled": false
   },
   "outputs": [],
   "source": [
    "for i in range(1,5): # i = 1, i = 2, ..., i = 4\n",
    "    print(i)"
   ]
  },
  {
   "cell_type": "markdown",
   "metadata": {},
   "source": [
    "---\n",
    "<h1><center>\n",
    "<a name='list'></a>\n",
    "    Listas\n",
    "</center></h1>\n",
    "\n",
    "---\n",
    "### Son un conjunto ordenado de elementos y pueden contener cualquier tipo de objeto.  \n",
    "Se escriben con corchetes:"
   ]
  },
  {
   "cell_type": "code",
   "execution_count": null,
   "metadata": {},
   "outputs": [],
   "source": [
    "t = [1, 2, 3, 'Quercus humboldtii', ['d', 'n', 'a']]\n",
    "m = ['g','o','d','z','i','l','l','a']\n",
    "l = [0, 1, 2, 3, 4, 5, 6]\n",
    "type(l)"
   ]
  },
  {
   "cell_type": "markdown",
   "metadata": {},
   "source": [
    "Como son conjuntos ORDENADOS, las siguientes listas son diferentes:"
   ]
  },
  {
   "cell_type": "code",
   "execution_count": null,
   "metadata": {},
   "outputs": [],
   "source": [
    "lista1 = [1,2,3,4]\n",
    "lista2 = [2,3,1,4]\n",
    "lista1 == lista2"
   ]
  },
  {
   "cell_type": "markdown",
   "metadata": {},
   "source": [
    "Se pueden crear listas por comprensión:"
   ]
  },
  {
   "cell_type": "code",
   "execution_count": null,
   "metadata": {},
   "outputs": [],
   "source": [
    "[letra for letra in 'godzilla'] #Esto es parecido a la forma matemática de definir conjuntos:\n",
    "# [x tal que x hace parte de las letras en 'godzilla']"
   ]
  },
  {
   "cell_type": "code",
   "execution_count": null,
   "metadata": {},
   "outputs": [],
   "source": [
    "[i for i in range(1,7)] #[i tal que i pertenece a los números del 0 al 6]"
   ]
  },
  {
   "cell_type": "markdown",
   "metadata": {},
   "source": [
    "### Métodos de listas:\n",
    "#### Muy similares a los de las cadenas:\n",
    "Indexado y slicing:"
   ]
  },
  {
   "cell_type": "code",
   "execution_count": null,
   "metadata": {},
   "outputs": [],
   "source": [
    "l"
   ]
  },
  {
   "cell_type": "code",
   "execution_count": null,
   "metadata": {},
   "outputs": [],
   "source": [
    "l[0] #Muestra el primer elemento de la lista."
   ]
  },
  {
   "cell_type": "code",
   "execution_count": null,
   "metadata": {},
   "outputs": [],
   "source": [
    "l[0:4] #Muestra los elementos del 0 al 3 (no tiene en cuenta el 4)."
   ]
  },
  {
   "cell_type": "code",
   "execution_count": null,
   "metadata": {},
   "outputs": [],
   "source": [
    "matriz = [[1,2,3],\n",
    "          [4,5,6],\n",
    "          [7,8,9]]\n",
    "\n",
    "matriz[0][2] #Si hay listas anidadas, se pueden usar varios índices."
   ]
  },
  {
   "cell_type": "markdown",
   "metadata": {},
   "source": [
    "Concatenación y repetición:"
   ]
  },
  {
   "cell_type": "code",
   "execution_count": null,
   "metadata": {},
   "outputs": [],
   "source": [
    "l + [9,10,11] #Aquí añadimos a la lista 'l' los elementos 9, 10 y 11."
   ]
  },
  {
   "cell_type": "code",
   "execution_count": null,
   "metadata": {},
   "outputs": [],
   "source": [
    "l * 2 #Duplicamos los elementos de la lista 'l'."
   ]
  },
  {
   "cell_type": "code",
   "execution_count": null,
   "metadata": {},
   "outputs": [],
   "source": [
    "[i*2 for i in l]"
   ]
  },
  {
   "cell_type": "markdown",
   "metadata": {},
   "source": [
    "**SON MUTABLES:**"
   ]
  },
  {
   "cell_type": "code",
   "execution_count": null,
   "metadata": {},
   "outputs": [],
   "source": [
    "l"
   ]
  },
  {
   "cell_type": "code",
   "execution_count": null,
   "metadata": {},
   "outputs": [],
   "source": [
    "l[0] = 'Humboldt' #A diferencia de las cadenas, en las listas sí podemos modificar los elementos.\n",
    "l"
   ]
  },
  {
   "cell_type": "code",
   "execution_count": null,
   "metadata": {},
   "outputs": [],
   "source": [
    "dir(l)"
   ]
  },
  {
   "cell_type": "code",
   "execution_count": null,
   "metadata": {},
   "outputs": [],
   "source": [
    "help(list.index)"
   ]
  },
  {
   "cell_type": "code",
   "execution_count": null,
   "metadata": {},
   "outputs": [],
   "source": [
    "m"
   ]
  },
  {
   "cell_type": "code",
   "execution_count": null,
   "metadata": {},
   "outputs": [],
   "source": [
    "m.index('l')"
   ]
  },
  {
   "cell_type": "code",
   "execution_count": null,
   "metadata": {},
   "outputs": [],
   "source": [
    "l.append('GATTACA') #El método append agrega un nuevo elemento al final de la lista, quedando la lista modificada.\n",
    "l"
   ]
  },
  {
   "cell_type": "code",
   "execution_count": null,
   "metadata": {},
   "outputs": [],
   "source": [
    "l.reverse() #El método reverse pone la lista en sentido inverso.\n",
    "l"
   ]
  },
  {
   "cell_type": "markdown",
   "metadata": {},
   "source": [
    "# ¡Cuidado con los objetos mutables!"
   ]
  },
  {
   "cell_type": "code",
   "execution_count": null,
   "metadata": {},
   "outputs": [],
   "source": [
    "m"
   ]
  },
  {
   "cell_type": "code",
   "execution_count": null,
   "metadata": {},
   "outputs": [],
   "source": [
    "r = m #Aquí decimos que la variable 'r' será igual a 'm', que es una lista que definimos anteriormente.\n",
    "print(m) #Muestra la lista 'm'\n",
    "print(r) #Muestra la lista 'r', vemos que efectivamente son iguales."
   ]
  },
  {
   "cell_type": "code",
   "execution_count": null,
   "metadata": {},
   "outputs": [],
   "source": [
    "m.append('King Ghidorah') #Modificamos la lista 'm' añadiéndole el elemento 'King Ghidorah'.\n",
    "print(m) #Muestra la lista 'm', vemos que tiene 'King Ghidorah' al final.\n",
    "print(r) #Muestra la lista 'r', vemos que también se modificó cuando modificamos 'm'."
   ]
  },
  {
   "cell_type": "code",
   "execution_count": null,
   "metadata": {},
   "outputs": [],
   "source": [
    "r.append('xD') # Si modificamos la lista r, también se modifica la lista m.\n",
    "print(r)\n",
    "print(m)"
   ]
  },
  {
   "cell_type": "markdown",
   "metadata": {},
   "source": [
    "## Esto pasa debido a que las variables son referencias a objetos\n",
    "<img src='figuras/referencias-objetos-1.png' width='600'/>\n",
    "<center>Mark Lutz (2013). _Learning Python_. pp. 181.</center>"
   ]
  },
  {
   "cell_type": "code",
   "execution_count": null,
   "metadata": {},
   "outputs": [],
   "source": [
    "r == m # r es igual a m"
   ]
  },
  {
   "cell_type": "code",
   "execution_count": null,
   "metadata": {},
   "outputs": [],
   "source": [
    "r is m # De hecho r y m son el mismo objeto"
   ]
  },
  {
   "cell_type": "code",
   "execution_count": null,
   "metadata": {},
   "outputs": [],
   "source": [
    "r = m.copy() # Ahora definimos aquí a r como una copia de m.\n",
    "print(r)\n",
    "print(m)"
   ]
  },
  {
   "cell_type": "code",
   "execution_count": null,
   "metadata": {},
   "outputs": [],
   "source": [
    "r == m # r y m son iguales"
   ]
  },
  {
   "cell_type": "code",
   "execution_count": null,
   "metadata": {},
   "outputs": [],
   "source": [
    "r is m # pero no son el mismo objeto"
   ]
  },
  {
   "cell_type": "code",
   "execution_count": null,
   "metadata": {
    "collapsed": true
   },
   "outputs": [],
   "source": [
    "r.append('Vegeta')\n",
    "print(r)\n",
    "print(m)"
   ]
  },
  {
   "cell_type": "markdown",
   "metadata": {},
   "source": [
    "## Sigamos con las listas\n",
    "#### Podemos usarlas, por ejemplo, para hallar el contenido GC de una secuencia:"
   ]
  },
  {
   "cell_type": "code",
   "execution_count": null,
   "metadata": {},
   "outputs": [],
   "source": [
    "dna = 'actgcgatgcgagcgtcgtagcgta'\n",
    "cg = [i for i in dna if i in 'cg'] #[i tal que i hace parte de la secuencia pero solo si es 'c' o 'g']\n",
    "print(cg)"
   ]
  },
  {
   "cell_type": "code",
   "execution_count": null,
   "metadata": {},
   "outputs": [],
   "source": [
    "len(cg)/len(dna)*100 #Cantidad de Cs y Gs dividido la longitud total de la secuencia por 100."
   ]
  },
  {
   "cell_type": "markdown",
   "metadata": {},
   "source": [
    "---\n",
    "<h1><center>\n",
    "<a name='dic'></a> Diccionarios </h1><center>\n",
    "\n",
    "---\n",
    "### Conjunto NO ordenado de claves (Keys) y valores (Values)."
   ]
  },
  {
   "cell_type": "code",
   "execution_count": null,
   "metadata": {
    "collapsed": true
   },
   "outputs": [],
   "source": [
    "Humboldt = {'nombre':'Alexander', 'nacionalidad':'Prusiano', 'profesión':'naturalista',\n",
    "            'edad': 89, 'amigos':['Bolívar', 'Thomas Jefferson', 'Darwin', 'Mutis', 'Gauss', 'Cuvier', 'Gay-Lussac']}"
   ]
  },
  {
   "cell_type": "code",
   "execution_count": null,
   "metadata": {},
   "outputs": [],
   "source": [
    "Humboldt['amigos']"
   ]
  },
  {
   "cell_type": "code",
   "execution_count": null,
   "metadata": {},
   "outputs": [],
   "source": [
    "Humboldt['nacionalidad']"
   ]
  },
  {
   "cell_type": "code",
   "execution_count": null,
   "metadata": {},
   "outputs": [],
   "source": [
    "Humboldt[0]"
   ]
  },
  {
   "cell_type": "code",
   "execution_count": null,
   "metadata": {},
   "outputs": [],
   "source": [
    "'nombre' in Humboldt"
   ]
  },
  {
   "cell_type": "markdown",
   "metadata": {},
   "source": [
    "Las claves no tienen que ser cadenas de texto, pueden ser cualquier objeto inmutable:"
   ]
  },
  {
   "cell_type": "code",
   "execution_count": null,
   "metadata": {},
   "outputs": [],
   "source": [
    "dic = { 9: 'número', 12:'Lista', 5+3j:{1:2 , 2:3} }"
   ]
  },
  {
   "cell_type": "markdown",
   "metadata": {},
   "source": [
    "#### También se pueden crear diccionarios con la función dict()"
   ]
  },
  {
   "cell_type": "code",
   "execution_count": null,
   "metadata": {
    "collapsed": true
   },
   "outputs": [],
   "source": [
    "Adenina = dict(f='C5H5N5', m=135.13, s='0.103 g/100 mL')"
   ]
  },
  {
   "cell_type": "code",
   "execution_count": null,
   "metadata": {},
   "outputs": [],
   "source": [
    "Adenina['s']"
   ]
  },
  {
   "cell_type": "markdown",
   "metadata": {},
   "source": [
    "### Podemos usar diccionarios para la complementariedad de las bases"
   ]
  },
  {
   "cell_type": "code",
   "execution_count": null,
   "metadata": {
    "collapsed": true
   },
   "outputs": [],
   "source": [
    "Chargaff = {'A':'T', 'C':'G', 'T':'A', 'G':'C'}"
   ]
  },
  {
   "cell_type": "code",
   "execution_count": null,
   "metadata": {},
   "outputs": [],
   "source": [
    "Chargaff['T']"
   ]
  },
  {
   "cell_type": "code",
   "execution_count": null,
   "metadata": {},
   "outputs": [],
   "source": [
    "dna = 'ACGTGCTGGACGTAGACGTGA'\n",
    "print(dna[::-1])\n",
    "''.join([ Chargaff[base] for base in dna[::-1] ])"
   ]
  },
  {
   "cell_type": "markdown",
   "metadata": {},
   "source": [
    "---\n",
    "<a name='tup'> </a>\n",
    "<h1><center>\n",
    "    Tuplas\n",
    "    </center></h1>\n",
    "    \n",
    "---\n",
    "## Básicamente son listas pero inmutables:"
   ]
  },
  {
   "cell_type": "code",
   "execution_count": null,
   "metadata": {
    "collapsed": true
   },
   "outputs": [],
   "source": [
    "tup = ('a', 'b', 'c', 'd', 'e', 'f', 'g')"
   ]
  },
  {
   "cell_type": "code",
   "execution_count": null,
   "metadata": {},
   "outputs": [],
   "source": [
    "tup[1] = 'r'"
   ]
  },
  {
   "cell_type": "code",
   "execution_count": null,
   "metadata": {},
   "outputs": [],
   "source": [
    "t1 = (1,2,3)\n",
    "t2 = (3,2,1)\n",
    "t1 == t2 # Confirmamos que es un conjunto ORDENADO de elementos."
   ]
  },
  {
   "cell_type": "markdown",
   "metadata": {},
   "source": [
    "---\n",
    "<a name='sets'></a>\n",
    "<h1><center>\n",
    "    Conjuntos (Sets)\n",
    "    </center></h1>\n",
    "    \n",
    "---\n",
    "### Son, como su nombre lo indica, conjuntos, pero a diferencia de las Listas y las Tuplas, este es un conjunto no ordenado."
   ]
  },
  {
   "cell_type": "markdown",
   "metadata": {},
   "source": [
    "Se definen con la función **set()** o escribiendo los elementos entre **llaves { }**:"
   ]
  },
  {
   "cell_type": "code",
   "execution_count": null,
   "metadata": {},
   "outputs": [],
   "source": [
    "set1 = set('Feynman')\n",
    "set2 = {'F','r','e','s','n','e','l'}\n",
    "type(set1)"
   ]
  },
  {
   "cell_type": "code",
   "execution_count": null,
   "metadata": {},
   "outputs": [],
   "source": [
    "s1 = {1,2,3,4}\n",
    "s2 = {4,3,2,1}\n",
    "s1 == s2 # Los dos conjuntos son iguales aunque sus elementos no estén en el mismo orden."
   ]
  },
  {
   "cell_type": "markdown",
   "metadata": {},
   "source": [
    "### Operaciones de conjuntos:"
   ]
  },
  {
   "cell_type": "code",
   "execution_count": null,
   "metadata": {},
   "outputs": [],
   "source": [
    "c1 = set('Euler')\n",
    "c2 = set('Erdos')\n",
    "c1 & c2 # Intersección"
   ]
  },
  {
   "cell_type": "code",
   "execution_count": null,
   "metadata": {},
   "outputs": [],
   "source": [
    "c1 | c2 # Unión"
   ]
  },
  {
   "cell_type": "code",
   "execution_count": null,
   "metadata": {},
   "outputs": [],
   "source": [
    "c1 - c2 # Diferencia"
   ]
  },
  {
   "cell_type": "code",
   "execution_count": null,
   "metadata": {},
   "outputs": [],
   "source": [
    "c3 = set('ira')\n",
    "c4 = set('gojira')\n",
    "c4 > c3 # Superset (¿c4 contiene a c3?)"
   ]
  },
  {
   "cell_type": "markdown",
   "metadata": {},
   "source": [
    "#### Creación de Sets por comprensión:"
   ]
  },
  {
   "cell_type": "code",
   "execution_count": null,
   "metadata": {},
   "outputs": [],
   "source": [
    "{x**2 for x in range(1,4)}"
   ]
  },
  {
   "cell_type": "markdown",
   "metadata": {},
   "source": [
    "#### Son útiles para eliminar duplicados:"
   ]
  },
  {
   "cell_type": "code",
   "execution_count": null,
   "metadata": {},
   "outputs": [],
   "source": [
    "set([1,2,3,5,3,2,2,1])"
   ]
  },
  {
   "cell_type": "markdown",
   "metadata": {},
   "source": [
    "<a name='beto'></a>\n",
    "![](figuras/beethoven_solo_hay_uno.jpg)"
   ]
  },
  {
   "cell_type": "markdown",
   "metadata": {
    "collapsed": true
   },
   "source": [
    "<h1><center>\n",
    "<a name='declaraciones'></a>Declaraciones de Python\n",
    "</center></h1>\n",
    "<img src = 'figuras/python-statements.png' width = 600 />"
   ]
  },
  {
   "cell_type": "markdown",
   "metadata": {},
   "source": [
    "## pass\n",
    "Significa no hacer nada. **pass** sirve por ejemplo si necesitamos rellenar un código que escribiremos después pero no queremos que nos aparezca un error:"
   ]
  },
  {
   "cell_type": "code",
   "execution_count": null,
   "metadata": {
    "collapsed": true
   },
   "outputs": [],
   "source": [
    "def funcion(argumento): #Función que algún día escribiré.\n",
    "    pass"
   ]
  },
  {
   "cell_type": "code",
   "execution_count": null,
   "metadata": {},
   "outputs": [],
   "source": [
    "x = 5\n",
    "if x == 5:\n",
    "    pass\n",
    "else:\n",
    "    print(False)"
   ]
  },
  {
   "cell_type": "markdown",
   "metadata": {},
   "source": [
    "## break"
   ]
  },
  {
   "cell_type": "code",
   "execution_count": null,
   "metadata": {},
   "outputs": [],
   "source": [
    "x = 4\n",
    "while True:\n",
    "    x += 1\n",
    "    if x == 9:\n",
    "        break\n",
    "print(x)"
   ]
  },
  {
   "cell_type": "markdown",
   "metadata": {},
   "source": [
    "## continue"
   ]
  },
  {
   "cell_type": "code",
   "execution_count": null,
   "metadata": {},
   "outputs": [],
   "source": [
    "x = 4\n",
    "while x < 12:\n",
    "    x += 1\n",
    "    if 7 < x < 10:\n",
    "        continue\n",
    "    print(x)"
   ]
  },
  {
   "cell_type": "code",
   "execution_count": null,
   "metadata": {},
   "outputs": [],
   "source": [
    "help()"
   ]
  },
  {
   "cell_type": "markdown",
   "metadata": {},
   "source": [
    "-------------\n",
    "<h1><center>\n",
    "<a name='funciones'></a>Funciones\n",
    "</h1></center>\n",
    "\n",
    "------\n",
    "![Funciones](figuras/funciones.png)"
   ]
  },
  {
   "cell_type": "markdown",
   "metadata": {},
   "source": [
    "Comencemos a programar algunas funciones:"
   ]
  },
  {
   "cell_type": "code",
   "execution_count": null,
   "metadata": {},
   "outputs": [],
   "source": [
    "def saludar(nombre):\n",
    "    print('¡Hola ' + nombre + '!\\n¿Cómo estás?')"
   ]
  },
  {
   "cell_type": "code",
   "execution_count": null,
   "metadata": {},
   "outputs": [],
   "source": [
    "saludar('Sebastián')"
   ]
  },
  {
   "cell_type": "code",
   "execution_count": null,
   "metadata": {},
   "outputs": [],
   "source": [
    "help(print)"
   ]
  },
  {
   "cell_type": "markdown",
   "metadata": {},
   "source": [
    "Podemos escribir **documentación** sobre nuestras funciones usando comillas:"
   ]
  },
  {
   "cell_type": "code",
   "execution_count": null,
   "metadata": {
    "collapsed": true
   },
   "outputs": [],
   "source": [
    "def multiplicar(x,z):\n",
    "    \n",
    "    '''Esta función multiplica\n",
    "    dos números x y z.'''\n",
    "    \n",
    "    print(x,'multiplicado por',z,'es igual a', x*z)"
   ]
  },
  {
   "cell_type": "code",
   "execution_count": null,
   "metadata": {},
   "outputs": [],
   "source": [
    "multiplicar(4,3)"
   ]
  },
  {
   "cell_type": "code",
   "execution_count": null,
   "metadata": {},
   "outputs": [],
   "source": [
    "help(multiplicar)"
   ]
  },
  {
   "cell_type": "code",
   "execution_count": null,
   "metadata": {
    "collapsed": true
   },
   "outputs": [],
   "source": [
    "def saludar(nombre, conconfianza=False):\n",
    "    if conconfianza == False:\n",
    "        print('¡Hola ' + nombre + '!\\n¿Cómo estás?')\n",
    "    else:\n",
    "        print('¡Hola ' + nombre + '!\\n¿Qué más de la familia? ¿Vientos o mareas?')"
   ]
  },
  {
   "cell_type": "code",
   "execution_count": null,
   "metadata": {},
   "outputs": [],
   "source": [
    "saludar('Lina', conconfianza=True)"
   ]
  },
  {
   "cell_type": "code",
   "execution_count": null,
   "metadata": {},
   "outputs": [],
   "source": [
    "saludar('Estefanía', True)"
   ]
  },
  {
   "cell_type": "markdown",
   "metadata": {},
   "source": [
    "## Diferencia entre *print* y *return*"
   ]
  },
  {
   "cell_type": "code",
   "execution_count": null,
   "metadata": {},
   "outputs": [],
   "source": [
    "hola = saludar('Lina')"
   ]
  },
  {
   "cell_type": "code",
   "execution_count": null,
   "metadata": {},
   "outputs": [],
   "source": [
    "print(hola)"
   ]
  },
  {
   "cell_type": "code",
   "execution_count": null,
   "metadata": {
    "collapsed": true
   },
   "outputs": [],
   "source": [
    "def sreturn(nombre):\n",
    "    return '¡Hola ' + nombre + '!\\n¿Cómo estás?'"
   ]
  },
  {
   "cell_type": "code",
   "execution_count": null,
   "metadata": {},
   "outputs": [],
   "source": [
    "hola = sreturn('Lina')"
   ]
  },
  {
   "cell_type": "code",
   "execution_count": null,
   "metadata": {},
   "outputs": [],
   "source": [
    "print(hola)"
   ]
  },
  {
   "cell_type": "markdown",
   "metadata": {},
   "source": [
    "## Recursividad: Una función que se llama a sí misma. <a name='recursividad'/>"
   ]
  },
  {
   "cell_type": "code",
   "execution_count": null,
   "metadata": {
    "collapsed": true
   },
   "outputs": [],
   "source": [
    "def factorial(x):\n",
    "    if x == 1:\n",
    "        return 1\n",
    "    else:\n",
    "        return x*factorial(x-1)"
   ]
  },
  {
   "cell_type": "code",
   "execution_count": null,
   "metadata": {},
   "outputs": [],
   "source": [
    "factorial(4)"
   ]
  },
  {
   "cell_type": "code",
   "execution_count": null,
   "metadata": {},
   "outputs": [],
   "source": [
    "help(zip)"
   ]
  },
  {
   "cell_type": "markdown",
   "metadata": {},
   "source": [
    "## Función zip (cremallera)\n",
    "<img src='figuras/cremallera.jpeg' width='200' />"
   ]
  },
  {
   "cell_type": "code",
   "execution_count": null,
   "metadata": {},
   "outputs": [],
   "source": [
    "dict(zip((1,2,3),('a','b','c')))"
   ]
  },
  {
   "cell_type": "code",
   "execution_count": null,
   "metadata": {},
   "outputs": [],
   "source": [
    "list(zip((1,2,3),('a','b','c')))"
   ]
  },
  {
   "cell_type": "markdown",
   "metadata": {},
   "source": [
    "### Creemos una función para el conteo de SNPs\n",
    "\n",
    "<pre>\n",
    "TACTTCTACTTTGCAGATCCATCTTCATAATGAAACGTGTCAATTTACATGAAAATGATTTTTCTCATCT  \n",
    "    |                   |                           |  \n",
    "TACTACTACTTTGCAGATCCATCTGCATAATGAAACGTGTCAATTTACATGAGAATGATTTTTCTCATCT\n",
    "</pre>"
   ]
  },
  {
   "cell_type": "code",
   "execution_count": null,
   "metadata": {},
   "outputs": [],
   "source": [
    "[i for i in range(10)]"
   ]
  },
  {
   "cell_type": "code",
   "execution_count": null,
   "metadata": {},
   "outputs": [],
   "source": [
    "dna1 = 'TACTTCTACTTTGCAGATCCATCTTCATAATGAAACGTGTCAATTTACATGAAAATGATTTTTCTCATCT'\n",
    "dna2 = 'TACTACTACTTTGCAGATCCATCTGCATAATGAAACGTGTCAATTTACATGAGAATGATTTTTCTCATCT'\n",
    "\n",
    "#print(list(zip(dna1,dna2)))\n",
    "print([(x,y) for x,y in zip(dna1, dna2) if x != y])\n",
    "\n",
    "def snp(sec1, sec2):\n",
    "    return len([(x,y) for x,y in zip(sec1, sec2) if x != y])"
   ]
  },
  {
   "cell_type": "code",
   "execution_count": null,
   "metadata": {},
   "outputs": [],
   "source": [
    "snp(dna1, dna2)"
   ]
  },
  {
   "cell_type": "code",
   "execution_count": null,
   "metadata": {},
   "outputs": [],
   "source": [
    "snp('holahola', 'holahole')"
   ]
  },
  {
   "cell_type": "markdown",
   "metadata": {},
   "source": [
    "Ahora veamos este ejemplo tomado de [esta página](http://docs.python.org.ar/tutorial/3/controlflow.html):"
   ]
  },
  {
   "cell_type": "code",
   "execution_count": null,
   "metadata": {},
   "outputs": [],
   "source": [
    "print('hola', end='...')"
   ]
  },
  {
   "cell_type": "code",
   "execution_count": null,
   "metadata": {
    "collapsed": true
   },
   "outputs": [],
   "source": [
    "def fib(n):  # escribe la serie de Fibonacci hasta n\n",
    "    \n",
    "     \"\"\"Escribe la serie de Fibonacci hasta n.\"\"\"\n",
    "        \n",
    "     a, b = 0, 1\n",
    "     while a < n:\n",
    "         print(a, end=' - ')\n",
    "         a, b = b, a+b"
   ]
  },
  {
   "cell_type": "code",
   "execution_count": null,
   "metadata": {},
   "outputs": [],
   "source": [
    "fib(30)"
   ]
  },
  {
   "cell_type": "markdown",
   "metadata": {},
   "source": [
    "## Funciones generadoras (yield)<a name='fungen'/>\n",
    "Las funciones generadoras se diferencian en que entregan su resultado por partes y no de una sola vez:"
   ]
  },
  {
   "cell_type": "code",
   "execution_count": null,
   "metadata": {},
   "outputs": [],
   "source": [
    "def cuadrados(x):\n",
    "    for i in range(x):\n",
    "        yield i**2"
   ]
  },
  {
   "cell_type": "code",
   "execution_count": null,
   "metadata": {},
   "outputs": [],
   "source": [
    "cuadrados(6)"
   ]
  },
  {
   "cell_type": "code",
   "execution_count": null,
   "metadata": {},
   "outputs": [],
   "source": [
    "x = cuadrados(6)"
   ]
  },
  {
   "cell_type": "code",
   "execution_count": null,
   "metadata": {},
   "outputs": [],
   "source": [
    "next(x)"
   ]
  },
  {
   "cell_type": "markdown",
   "metadata": {},
   "source": [
    "## Funciones Lambda <a name='lambda'><a/>\n",
    "Son funciones que no necesitan ser nombradas, útiles para cuando se requiere realizar un procedimiento sencillo y no se requiere definir una función:"
   ]
  },
  {
   "cell_type": "code",
   "execution_count": null,
   "metadata": {},
   "outputs": [],
   "source": [
    "list(map(lambda x: x**2, [4,3,2,1]))"
   ]
  },
  {
   "cell_type": "code",
   "execution_count": null,
   "metadata": {},
   "outputs": [],
   "source": [
    "f = lambda x, y, z: x + y + z\n",
    "f(4,3,4)"
   ]
  },
  {
   "cell_type": "markdown",
   "metadata": {},
   "source": [
    "También son útiles porque pueden usarse en diccionarios:"
   ]
  },
  {
   "cell_type": "code",
   "execution_count": null,
   "metadata": {},
   "outputs": [],
   "source": [
    "{1:'a', 2:'b'}.get(1)"
   ]
  },
  {
   "cell_type": "code",
   "execution_count": null,
   "metadata": {},
   "outputs": [],
   "source": [
    "def operar(op, x, y):\n",
    "    print({'sumar': lambda: x+y, 'multiplicar': lambda: x*y}.get(op)())\n",
    "\n",
    "operar('sumar', 4, 3)\n",
    "operar('multiplicar', 4, 3)"
   ]
  },
  {
   "cell_type": "markdown",
   "metadata": {},
   "source": [
    "## Alcance - esfera de acción de las variables (Scope)\n",
    "Debemos tener en cuenta que en Python las variables tienen una \"esfera de acción\" según donde se definan. Por ejemplo:  \n",
    "Lo que pasa en la función, se queda en la función:"
   ]
  },
  {
   "cell_type": "code",
   "execution_count": null,
   "metadata": {
    "collapsed": true
   },
   "outputs": [],
   "source": [
    "z = 9            # Esta es una variable global, existe en el entorno en el que estamos trabajando.\n",
    "def reasignar(x):\n",
    "    z = x*10      # Esta z es una variable local, solo es visible dentro de la función.\n",
    "    print(z)"
   ]
  },
  {
   "cell_type": "code",
   "execution_count": null,
   "metadata": {},
   "outputs": [],
   "source": [
    "reasignar(3)\n",
    "z"
   ]
  },
  {
   "cell_type": "code",
   "execution_count": null,
   "metadata": {
    "collapsed": true
   },
   "outputs": [],
   "source": [
    "def reasignar(x):\n",
    "    global z; z = x*10\n",
    "    print(z)"
   ]
  },
  {
   "cell_type": "code",
   "execution_count": null,
   "metadata": {},
   "outputs": [],
   "source": [
    "reasignar(3)\n",
    "z"
   ]
  },
  {
   "cell_type": "code",
   "execution_count": null,
   "metadata": {
    "collapsed": true
   },
   "outputs": [],
   "source": [
    "f = lambda: z/2"
   ]
  },
  {
   "cell_type": "code",
   "execution_count": null,
   "metadata": {},
   "outputs": [],
   "source": [
    "f()"
   ]
  },
  {
   "cell_type": "markdown",
   "metadata": {},
   "source": [
    "<h3><center>Regla LEGB de búsqueda de variables en Python</center></h3>\n",
    "<img src='figuras/legb-rule.png' width='540'/>\n",
    "<center> Mark Lutz (2013). _Learning Python_. pp. 489 </center>"
   ]
  },
  {
   "cell_type": "code",
   "execution_count": null,
   "metadata": {},
   "outputs": [],
   "source": [
    "x = 9\n",
    "def fun():\n",
    "    return x*2\n",
    "\n",
    "fun()"
   ]
  },
  {
   "cell_type": "code",
   "execution_count": null,
   "metadata": {},
   "outputs": [],
   "source": [
    "x = 9\n",
    "def fun():\n",
    "    x = 4\n",
    "    return x*2\n",
    "\n",
    "fun()"
   ]
  },
  {
   "cell_type": "code",
   "execution_count": null,
   "metadata": {},
   "outputs": [],
   "source": [
    "x = 9\n",
    "def fun(x):\n",
    "    return x*2\n",
    "\n",
    "fun(2) # x = 2"
   ]
  },
  {
   "cell_type": "code",
   "execution_count": null,
   "metadata": {
    "collapsed": true
   },
   "outputs": [],
   "source": [
    "x = 9\n",
    "def fun():\n",
    "    x = 3\n",
    "    def anidada():\n",
    "        return x*2\n",
    "    return anidada()"
   ]
  },
  {
   "cell_type": "code",
   "execution_count": null,
   "metadata": {},
   "outputs": [],
   "source": [
    "fun()"
   ]
  },
  {
   "cell_type": "markdown",
   "metadata": {},
   "source": [
    "### ¡Atención! Declaraciones de loop no localizan nombres de variables"
   ]
  },
  {
   "cell_type": "code",
   "execution_count": null,
   "metadata": {},
   "outputs": [],
   "source": [
    "y = 99; print(y)\n",
    "print('---')\n",
    "for y in 'kakaroto':   # y = 'k', y = 'a', ..., y = 'o'\n",
    "    print(y)\n",
    "print('---')\n",
    "print(y)"
   ]
  },
  {
   "cell_type": "markdown",
   "metadata": {},
   "source": [
    "Aparte de **global** existe otra declaración para no localizar variables.\n",
    "Veamos ahora **nonlocal** en acción en un ejemplo interesante: Una función para crear funciones."
   ]
  },
  {
   "cell_type": "code",
   "execution_count": null,
   "metadata": {},
   "outputs": [],
   "source": [
    "c = 90            # c de manera global\n",
    "def contador():\n",
    "    c = 1\n",
    "    print('El valor de c en contador es:', c)\n",
    "    def fun():\n",
    "        # nonlocal c\n",
    "        c = 10          # Aquí estoy definiendo una \"nueva\" variable c\n",
    "        print('El valor de c en fun es:', c)\n",
    "    fun()\n",
    "    print('El valor final de c en contador es:', c)"
   ]
  },
  {
   "cell_type": "code",
   "execution_count": null,
   "metadata": {},
   "outputs": [],
   "source": [
    "contador()\n",
    "print('El valor de c de manera global es:', c)"
   ]
  },
  {
   "cell_type": "code",
   "execution_count": null,
   "metadata": {},
   "outputs": [],
   "source": [
    "def contador():\n",
    "    c = 1\n",
    "    print('El valor de c en contador es:', c)\n",
    "    def fun():\n",
    "        nonlocal c\n",
    "        c = 10               # Aquí estoy en realidad redefiniendo c\n",
    "        print('El valor de c en fun es:', c)\n",
    "    fun()\n",
    "    print('El valor final de c en contador es:', c)"
   ]
  },
  {
   "cell_type": "code",
   "execution_count": null,
   "metadata": {},
   "outputs": [],
   "source": [
    "contador()\n",
    "print('El valor global de c es:', c)"
   ]
  },
  {
   "cell_type": "code",
   "execution_count": null,
   "metadata": {},
   "outputs": [],
   "source": [
    "def contador():\n",
    "    c = 1\n",
    "    def fun():\n",
    "        nonlocal c\n",
    "        print('¿Cuántas veces se ha usado esta función?\\nSe ha usado',c,'veces.')\n",
    "        c += 1\n",
    "    return fun"
   ]
  },
  {
   "cell_type": "code",
   "execution_count": null,
   "metadata": {},
   "outputs": [],
   "source": [
    "gauss = contador()\n",
    "gauss()"
   ]
  },
  {
   "cell_type": "code",
   "execution_count": null,
   "metadata": {},
   "outputs": [],
   "source": [
    "gauss()\n",
    "gauss()"
   ]
  },
  {
   "cell_type": "code",
   "execution_count": null,
   "metadata": {},
   "outputs": [],
   "source": [
    "c = 1\n",
    "def fun():\n",
    "        global c\n",
    "        print('¿Cuántas veces se ha usado esta función?\\nSe ha usado',c,'veces.')\n",
    "        c += 1"
   ]
  },
  {
   "cell_type": "code",
   "execution_count": null,
   "metadata": {},
   "outputs": [],
   "source": [
    "fun()"
   ]
  },
  {
   "cell_type": "markdown",
   "metadata": {},
   "source": [
    "### Brevísima introducción a los atributos\n",
    "Veamos un ejemplo similar al anterior pero ahora usando una variable como atributo de la función:"
   ]
  },
  {
   "cell_type": "code",
   "execution_count": 47,
   "metadata": {
    "collapsed": true
   },
   "outputs": [],
   "source": [
    "def sastre():\n",
    "    sastre.moscos += 1\n",
    "    print('¿A cuántos mataste sastre?\\n¡Maté ', sastre.moscos,'!',sep='')"
   ]
  },
  {
   "cell_type": "code",
   "execution_count": 48,
   "metadata": {},
   "outputs": [
    {
     "ename": "AttributeError",
     "evalue": "'function' object has no attribute 'moscos'",
     "output_type": "error",
     "traceback": [
      "\u001b[0;31m---------------------------------------------------------------------------\u001b[0m",
      "\u001b[0;31mAttributeError\u001b[0m                            Traceback (most recent call last)",
      "\u001b[0;32m<ipython-input-48-28fe390f7bf6>\u001b[0m in \u001b[0;36m<module>\u001b[0;34m\u001b[0m\n\u001b[1;32m      1\u001b[0m \u001b[0;31m#sastre.moscos = 1\u001b[0m\u001b[0;34m\u001b[0m\u001b[0;34m\u001b[0m\u001b[0m\n\u001b[0;32m----> 2\u001b[0;31m \u001b[0msastre\u001b[0m\u001b[0;34m(\u001b[0m\u001b[0;34m)\u001b[0m\u001b[0;34m\u001b[0m\u001b[0m\n\u001b[0m\u001b[1;32m      3\u001b[0m \u001b[0msastre\u001b[0m\u001b[0;34m(\u001b[0m\u001b[0;34m)\u001b[0m\u001b[0;34m\u001b[0m\u001b[0m\n\u001b[1;32m      4\u001b[0m \u001b[0msastre\u001b[0m\u001b[0;34m(\u001b[0m\u001b[0;34m)\u001b[0m\u001b[0;34m\u001b[0m\u001b[0m\n",
      "\u001b[0;32m<ipython-input-47-4df24b8538b1>\u001b[0m in \u001b[0;36msastre\u001b[0;34m()\u001b[0m\n\u001b[1;32m      1\u001b[0m \u001b[0;32mdef\u001b[0m \u001b[0msastre\u001b[0m\u001b[0;34m(\u001b[0m\u001b[0;34m)\u001b[0m\u001b[0;34m:\u001b[0m\u001b[0;34m\u001b[0m\u001b[0m\n\u001b[0;32m----> 2\u001b[0;31m     \u001b[0msastre\u001b[0m\u001b[0;34m.\u001b[0m\u001b[0mmoscos\u001b[0m \u001b[0;34m+=\u001b[0m \u001b[0;36m1\u001b[0m\u001b[0;34m\u001b[0m\u001b[0m\n\u001b[0m\u001b[1;32m      3\u001b[0m     \u001b[0mprint\u001b[0m\u001b[0;34m(\u001b[0m\u001b[0;34m'¿A cuántos mataste sastre?\\n¡Maté '\u001b[0m\u001b[0;34m,\u001b[0m \u001b[0msastre\u001b[0m\u001b[0;34m.\u001b[0m\u001b[0mmoscos\u001b[0m\u001b[0;34m,\u001b[0m\u001b[0;34m'!'\u001b[0m\u001b[0;34m,\u001b[0m\u001b[0msep\u001b[0m\u001b[0;34m=\u001b[0m\u001b[0;34m''\u001b[0m\u001b[0;34m)\u001b[0m\u001b[0;34m\u001b[0m\u001b[0m\n",
      "\u001b[0;31mAttributeError\u001b[0m: 'function' object has no attribute 'moscos'"
     ]
    }
   ],
   "source": [
    "sastre.moscos = 1\n",
    "sastre()\n",
    "sastre()\n",
    "sastre()"
   ]
  },
  {
   "cell_type": "code",
   "execution_count": null,
   "metadata": {},
   "outputs": [],
   "source": [
    "sastre()"
   ]
  },
  {
   "cell_type": "code",
   "execution_count": null,
   "metadata": {},
   "outputs": [],
   "source": [
    "c = 9 + 2j\n",
    "print(c.imag)\n",
    "print(c.real)\n",
    "print(c.conjugate())"
   ]
  },
  {
   "cell_type": "markdown",
   "metadata": {},
   "source": [
    "<h1><center>\n",
    "<a name='import'></a>\n",
    "Importando módulos </center></h1>\n",
    "\n",
    "En algunas ocasiones necesitamos funciones o complementos que Python por defecto no tiene, sin embargo, existen muchos módulos creados por otras personas que nos pueden ayudar en nuestro trabajo.\n",
    "\n",
    "Por ejemplo queremos usar el número pi y la función coseno."
   ]
  },
  {
   "cell_type": "code",
   "execution_count": null,
   "metadata": {},
   "outputs": [],
   "source": [
    "cos(pi)"
   ]
  },
  {
   "cell_type": "code",
   "execution_count": null,
   "metadata": {
    "collapsed": true
   },
   "outputs": [],
   "source": [
    "import math"
   ]
  },
  {
   "cell_type": "code",
   "execution_count": null,
   "metadata": {},
   "outputs": [],
   "source": [
    "print(math.pi)\n",
    "math.cos(math.pi)"
   ]
  },
  {
   "cell_type": "code",
   "execution_count": null,
   "metadata": {},
   "outputs": [],
   "source": [
    "import math as m # Para no tener que teclear tanto podemos hacer esta asignación, lo que hace Python es:\n",
    "# m = math; del math\n",
    "print(m.pi)\n",
    "del m\n",
    "print(m.pi)"
   ]
  },
  {
   "cell_type": "code",
   "execution_count": null,
   "metadata": {},
   "outputs": [],
   "source": [
    "m = math\n",
    "m.pi"
   ]
  },
  {
   "cell_type": "markdown",
   "metadata": {},
   "source": [
    "Al importar el módulo **math**, importamos muchas funcionalidades de ese módulo. Si solo necesitamos usar el número pi, hacemos lo siguiente:"
   ]
  },
  {
   "cell_type": "code",
   "execution_count": null,
   "metadata": {},
   "outputs": [],
   "source": [
    "from math import pi , cos\n",
    "print(cos(pi))"
   ]
  },
  {
   "cell_type": "code",
   "execution_count": null,
   "metadata": {},
   "outputs": [],
   "source": [
    "print(cos(pi))\n",
    "cos = lambda x: print('No existe coseno de', x,', la función cos fue dada de baja.')\n",
    "cos(pi)"
   ]
  },
  {
   "cell_type": "markdown",
   "metadata": {},
   "source": [
    "Los módulos solo son importados una vez, para volverlos a cargar hay que ejecutar:  \n",
    "`from imp import reload`"
   ]
  },
  {
   "cell_type": "code",
   "execution_count": null,
   "metadata": {},
   "outputs": [],
   "source": [
    "import mercurio as me"
   ]
  },
  {
   "cell_type": "code",
   "execution_count": null,
   "metadata": {},
   "outputs": [],
   "source": [
    "help(me)"
   ]
  },
  {
   "cell_type": "markdown",
   "metadata": {},
   "source": [
    "Vayamos al archivo del módulo y hagamos una modificación, por ejemplo, añadiendo al final la línea:  \n",
    "`print('El módulo fue importado')`"
   ]
  },
  {
   "cell_type": "code",
   "execution_count": null,
   "metadata": {
    "collapsed": true
   },
   "outputs": [],
   "source": [
    "import mercurio as me"
   ]
  },
  {
   "cell_type": "code",
   "execution_count": null,
   "metadata": {},
   "outputs": [],
   "source": [
    "from imp import reload\n",
    "reload(me)"
   ]
  },
  {
   "cell_type": "code",
   "execution_count": null,
   "metadata": {},
   "outputs": [],
   "source": [
    "help(me.mercurio)"
   ]
  },
  {
   "cell_type": "code",
   "execution_count": null,
   "metadata": {},
   "outputs": [],
   "source": [
    "me.mercurio(2,5, 100)"
   ]
  },
  {
   "cell_type": "code",
   "execution_count": null,
   "metadata": {},
   "outputs": [],
   "source": [
    "from mercurio import radiobar"
   ]
  },
  {
   "cell_type": "code",
   "execution_count": null,
   "metadata": {},
   "outputs": [],
   "source": [
    "radiobar(100000, 10)"
   ]
  },
  {
   "cell_type": "markdown",
   "metadata": {},
   "source": [
    "Hay muchos módulos con funcionalidades muy utilizadas:"
   ]
  },
  {
   "cell_type": "code",
   "execution_count": null,
   "metadata": {
    "collapsed": true
   },
   "outputs": [],
   "source": [
    "import statistics as st"
   ]
  },
  {
   "cell_type": "code",
   "execution_count": null,
   "metadata": {},
   "outputs": [],
   "source": [
    "datos = [1,2,3,4]\n",
    "st.mean(datos)"
   ]
  },
  {
   "cell_type": "code",
   "execution_count": null,
   "metadata": {},
   "outputs": [],
   "source": [
    "st.variance(datos)"
   ]
  },
  {
   "cell_type": "markdown",
   "metadata": {},
   "source": [
    "Otros módulos de interés son:  \n",
    "* **Biopython:** Colección de bibliotecas orientadas a la bioinformática para Python.\n",
    "* **NumPy:** Biblioteca que da soporte al cálculo con matrices y vectores.\n",
    "* **SciPy:** Biblioteca que permite realizar análisis científico como optimización, álgebra lineal, integración, ecuaciones diferenciales entre otras.\n",
    "* **Pandas:** Biblioteca que permite el análisis de datos a través de series y «dataframes».\n",
    "* **Pyomo:** Colección de paquetes de software de Python para formular modelos de optimización"
   ]
  },
  {
   "cell_type": "markdown",
   "metadata": {},
   "source": [
    "<img src='figuras/program-arch.png' width='670'>\n",
    "<center> Mark Lutz (2013). _Learning Python_. pp. 672 </center>"
   ]
  },
  {
   "cell_type": "markdown",
   "metadata": {},
   "source": [
    "¿Dónde busca Python los módulos que le pedimos que importe?\n",
    "1. Directorio principal del programa (donde el programa está trabajando). Para ver cuál es ese directorio ejecutamos:  \n",
    "`import os`  \n",
    "`os.getcwd()`"
   ]
  },
  {
   "cell_type": "code",
   "execution_count": null,
   "metadata": {},
   "outputs": [],
   "source": [
    "import os\n",
    "os.getcwd() # Get Current Working Directory"
   ]
  },
  {
   "cell_type": "markdown",
   "metadata": {},
   "source": [
    "2. Los directorios en la variable `PYTHONPATH`.\n",
    "3. Los directorios de las librerías estándar.\n",
    "4. Los contenidos de los archivos _.pth_  \n",
    "Estos generalmente se ponen en _/usr/lib/python3/dist-packages/_\n",
    "5. La carpeta principal de los _site-packages_ de extensiones de terceros.\n",
    "\n",
    "Además de modificar algunas de las opciones anteriores, también podemos modificar el atributo **sys.path**:"
   ]
  },
  {
   "cell_type": "code",
   "execution_count": null,
   "metadata": {},
   "outputs": [],
   "source": [
    "import sys\n",
    "sys.path"
   ]
  },
  {
   "cell_type": "code",
   "execution_count": null,
   "metadata": {},
   "outputs": [],
   "source": [
    "sys.path.append('/home/nesper/Escritorio')\n",
    "sys.path"
   ]
  },
  {
   "cell_type": "markdown",
   "metadata": {},
   "source": [
    "## El truco if \\__name\\__ == '\\__main\\__'\n",
    "Cada módulo en Python tiene un atributo llamado **\\__name\\__** que se define así:\n",
    "* Si el archivo es ejecutado como un archivo de programa de nivel superior, entonces a **\\__name\\__** se le asigna el valor de **\\__main\\__**.\n",
    "* Si el archivo, por el contrario, es importado, **\\__name\\__** tiene como valor el nombre del módulo."
   ]
  },
  {
   "cell_type": "code",
   "execution_count": null,
   "metadata": {},
   "outputs": [],
   "source": [
    "me.__name__"
   ]
  },
  {
   "cell_type": "markdown",
   "metadata": {},
   "source": [
    "Podemos aprovechar esto para correr código que solo se ejecute si nuestro módulo es corrido como script:\n",
    "\n",
    "```if __name__ == '__main__':\n",
    "    print('El módulo se ejecutó como programa principal.')```"
   ]
  },
  {
   "cell_type": "markdown",
   "metadata": {},
   "source": [
    "---------\n",
    "<h1><center><a name='clases'></a>Clases</h1></center>\n",
    "\n",
    "---------\n",
    "Las clases tienen las siguientes \"propiedades\":\n",
    "\n",
    "* **Herencia (Inheritance):**  \n",
    "Ejemplo: Los humanos somos un tipo de mamífero, así que heredamos propiedades de los mamíferos (pelo, mamas, etc.)\n",
    "\n",
    "* **Composición:**  \n",
    "Ejemplo: Estamos compuestos de partes que hacen diferentes cosas (esqueleto que sostiene, músculos que mueven, pulmones que respiran)."
   ]
  },
  {
   "cell_type": "markdown",
   "metadata": {},
   "source": [
    "Al definir una nueva clase estamos creando un nuevo tipo de objetos en Python.  \n",
    "Cada ejemplar (i.e. objeto) de una clase se conoce como una **instancia**, y cuando creamos un objeto de una clase decimos que **instanciamos** la clase ([aunque la RAE no lo acepte todavía](https://dle.rae.es/srv/search?m=30&w=instancia)).\n",
    "\n",
    "Las funciones definidas dentro de una clase se convierten en los métodos de esa clase."
   ]
  },
  {
   "cell_type": "code",
   "execution_count": null,
   "metadata": {},
   "outputs": [],
   "source": [
    "class personas:\n",
    "    \n",
    "    def poner_nombre(self, nombre): # Esta función define una variable llamada nom\n",
    "        self.nom = nombre           # Variables asociadas a un objeto o clase se conocen como Atributos"
   ]
  },
  {
   "cell_type": "markdown",
   "metadata": {},
   "source": [
    "Una de las ventajas de las clases es poder tener multiples instancias:"
   ]
  },
  {
   "cell_type": "code",
   "execution_count": null,
   "metadata": {},
   "outputs": [],
   "source": [
    "x = personas(); y = personas()\n",
    "x.nom"
   ]
  },
  {
   "cell_type": "code",
   "execution_count": null,
   "metadata": {},
   "outputs": [],
   "source": [
    "x.poner_nombre('Paul Dirac') #Al ejecutar este método definimos el atributo nom de nuestro objeto.\n",
    "x.nom"
   ]
  },
  {
   "cell_type": "code",
   "execution_count": null,
   "metadata": {
    "collapsed": true
   },
   "outputs": [],
   "source": [
    "y.poner_nombre('Abdus Salam')"
   ]
  },
  {
   "cell_type": "code",
   "execution_count": null,
   "metadata": {},
   "outputs": [],
   "source": [
    "x1 #Nuestro objeto aún no tiene representación."
   ]
  },
  {
   "cell_type": "code",
   "execution_count": null,
   "metadata": {},
   "outputs": [],
   "source": [
    "l = list()\n",
    "l"
   ]
  },
  {
   "cell_type": "markdown",
   "metadata": {},
   "source": [
    "Las clases a menudo tienen la función **\\__init__** que es la función mediante la cual \"nace\" un objeto de la clase."
   ]
  },
  {
   "cell_type": "code",
   "execution_count": null,
   "metadata": {},
   "outputs": [],
   "source": [
    "class personas:\n",
    "    def __init__(self, nombre):\n",
    "        self.nom = nombre\n",
    "        \n",
    "    def __add__(self, otracosa):        # Esto se conoce como \"Operator overloading\"\n",
    "        return self.nom +' '+ otracosa\n",
    "    \n",
    "    def __repr__(self):\n",
    "        return 'Yo soy '+self.nom\n",
    "    \n",
    "    def cambiar_nombre(self, nuevo_nombre):\n",
    "        self.nom = nuevo_nombre\n",
    "        \n",
    "    def __eq__(self, otro):\n",
    "        print('test de igualdad entre', self, 'y', otro)\n",
    "        \n",
    "    def __str__(self):\n",
    "        return 'imprimiste '+self.nom"
   ]
  },
  {
   "cell_type": "code",
   "execution_count": null,
   "metadata": {},
   "outputs": [],
   "source": [
    "persona2 = personas('Al-Juarismi')\n",
    "persona2"
   ]
  },
  {
   "cell_type": "code",
   "execution_count": null,
   "metadata": {},
   "outputs": [],
   "source": [
    "y = personas('Yordi')\n",
    "y"
   ]
  },
  {
   "cell_type": "code",
   "execution_count": null,
   "metadata": {},
   "outputs": [],
   "source": [
    "persona2.__add__('1990')"
   ]
  },
  {
   "cell_type": "code",
   "execution_count": null,
   "metadata": {},
   "outputs": [],
   "source": [
    "persona2 + '1990'"
   ]
  },
  {
   "cell_type": "code",
   "execution_count": null,
   "metadata": {},
   "outputs": [],
   "source": [
    "y==9"
   ]
  },
  {
   "cell_type": "code",
   "execution_count": null,
   "metadata": {},
   "outputs": [],
   "source": [
    "print(y)\n",
    "y"
   ]
  },
  {
   "cell_type": "code",
   "execution_count": null,
   "metadata": {},
   "outputs": [],
   "source": [
    "help(complex) # Ahora podemos entender mejor la documentación de las clases incorporadas."
   ]
  },
  {
   "cell_type": "markdown",
   "metadata": {},
   "source": [
    "Creemos una clase de monstruos gigantes:"
   ]
  },
  {
   "cell_type": "code",
   "execution_count": 1,
   "metadata": {},
   "outputs": [],
   "source": [
    "import random as rn\n",
    "\n",
    "class kaiju:\n",
    "    def __init__(self, nombre, tipo = 'indefinido'):\n",
    "        self.nombre = nombre\n",
    "        self.tipo = tipo\n",
    "        \n",
    "    def __repr__(self):\n",
    "        return 'Nombre: {0}\\nTipo: {1}'.format(self.nombre, self.tipo)\n",
    "\n",
    "    def __add__(self, otro):\n",
    "        return self.nombre + ' vs. ' + otro.nombre\n",
    "    \n",
    "    def pelear(self, otro):\n",
    "        print(self + otro)\n",
    "        num = rn.random()\n",
    "        ganador = (self.nombre if num < 0.5 else otro.nombre)\n",
    "        print('¡',ganador, ' ha ganado la batalla!', sep='')"
   ]
  },
  {
   "cell_type": "code",
   "execution_count": 2,
   "metadata": {},
   "outputs": [],
   "source": [
    "g = kaiju('Godzilla', 'Dinosaurio radiactivo')\n",
    "m = kaiju('Kumonga', 'Araña gigante')"
   ]
  },
  {
   "cell_type": "code",
   "execution_count": 4,
   "metadata": {},
   "outputs": [
    {
     "data": {
      "text/plain": [
       "{'nombre': 'Godzilla', 'tipo': 'Dinosaurio radiactivo'}"
      ]
     },
     "execution_count": 4,
     "metadata": {},
     "output_type": "execute_result"
    }
   ],
   "source": [
    "g"
   ]
  },
  {
   "cell_type": "code",
   "execution_count": null,
   "metadata": {},
   "outputs": [],
   "source": [
    "m"
   ]
  },
  {
   "cell_type": "code",
   "execution_count": null,
   "metadata": {},
   "outputs": [],
   "source": [
    "m.pelear(g)"
   ]
  },
  {
   "cell_type": "markdown",
   "metadata": {},
   "source": [
    "Al llamar un método como lo acabamos de hacer, es decir: **`instancia.método(argumento)`**  \n",
    "En realidad estamos haciendo lo siguiente: **`clase.método(instancia, argumento)`**"
   ]
  },
  {
   "cell_type": "code",
   "execution_count": 7,
   "metadata": {},
   "outputs": [
    {
     "name": "stdout",
     "output_type": "stream",
     "text": [
      "Kumonga vs. Godzilla\n",
      "¡Godzilla ha ganado la batalla!\n"
     ]
    }
   ],
   "source": [
    "kaiju.pelear(m,g)"
   ]
  },
  {
   "cell_type": "markdown",
   "metadata": {},
   "source": [
    "Veamos más ejemplos de clases:"
   ]
  },
  {
   "cell_type": "code",
   "execution_count": null,
   "metadata": {
    "collapsed": true
   },
   "outputs": [],
   "source": [
    "def sumar(x,y):\n",
    "    print('x + y es:', x+y)"
   ]
  },
  {
   "cell_type": "code",
   "execution_count": 76,
   "metadata": {},
   "outputs": [],
   "source": [
    "import time\n",
    "class pollo:\n",
    "    def __init__(self, nombre):\n",
    "        self.nombre = nombre\n",
    "        self.nacimiento = time.monotonic()\n",
    "        \n",
    "    def edad(self):\n",
    "        edad = time.monotonic() - self.nacimiento\n",
    "        print('Soy tan viejo como', edad, 'segundos')\n",
    "        \n",
    "    def nom(self):\n",
    "        print('Yo me llamo '+ self.nombre)"
   ]
  },
  {
   "cell_type": "code",
   "execution_count": 88,
   "metadata": {},
   "outputs": [
    {
     "name": "stdout",
     "output_type": "stream",
     "text": [
      "Yo me llamo Gallito George\n",
      "Soy tan viejo como 0.00044290499954513507 segundos\n"
     ]
    }
   ],
   "source": [
    "g = pollo('Gallito George')\n",
    "g.nom()\n",
    "g.edad()"
   ]
  },
  {
   "cell_type": "code",
   "execution_count": 79,
   "metadata": {},
   "outputs": [
    {
     "name": "stdout",
     "output_type": "stream",
     "text": [
      "Soy tan viejo como 51.10861804999968 segundos\n"
     ]
    }
   ],
   "source": [
    "g.edad()"
   ]
  },
  {
   "cell_type": "code",
   "execution_count": null,
   "metadata": {},
   "outputs": [],
   "source": [
    "g.__class__ # El atributo class se crea automáticamente y me dice a qué clase pertenece un objeto"
   ]
  },
  {
   "cell_type": "markdown",
   "metadata": {},
   "source": [
    "## ¡Las funciones pueden crearse como clases también!"
   ]
  },
  {
   "cell_type": "code",
   "execution_count": 34,
   "metadata": {
    "collapsed": true
   },
   "outputs": [],
   "source": [
    "class cont:\n",
    "    def __init__(self, inicio):\n",
    "        self.contador = inicio\n",
    "        \n",
    "    def __call__(self, texto):       # El método __call__ indica qué hacer si un objeto de esta clase es llamado.\n",
    "        print(texto, self.contador)\n",
    "        self.contador += 1\n",
    "        \n",
    "    def __add__(self, x):\n",
    "        print(self.contador + x)"
   ]
  },
  {
   "cell_type": "code",
   "execution_count": 35,
   "metadata": {},
   "outputs": [
    {
     "data": {
      "text/plain": [
       "9"
      ]
     },
     "execution_count": 35,
     "metadata": {},
     "output_type": "execute_result"
    }
   ],
   "source": [
    "g = cont(9)\n",
    "g.contador"
   ]
  },
  {
   "cell_type": "code",
   "execution_count": 36,
   "metadata": {},
   "outputs": [
    {
     "name": "stdout",
     "output_type": "stream",
     "text": [
      "Kurt Gödel 9\n",
      "David Hilbert 10\n",
      "Rosalind Franklin 11\n"
     ]
    }
   ],
   "source": [
    "g('Kurt Gödel')\n",
    "g('David Hilbert')\n",
    "g('Rosalind Franklin')"
   ]
  },
  {
   "cell_type": "code",
   "execution_count": 37,
   "metadata": {},
   "outputs": [
    {
     "name": "stdout",
     "output_type": "stream",
     "text": [
      "22\n"
     ]
    }
   ],
   "source": [
    "g + 10"
   ]
  },
  {
   "cell_type": "code",
   "execution_count": 38,
   "metadata": {},
   "outputs": [
    {
     "name": "stdout",
     "output_type": "stream",
     "text": [
      "Hola 1\n",
      "Adios 2\n"
     ]
    }
   ],
   "source": [
    "f = cont(1)\n",
    "f('Hola')\n",
    "f('Adios')"
   ]
  },
  {
   "cell_type": "markdown",
   "metadata": {},
   "source": [
    "## Ahora estudiemos la \"Herencia\" en las clases"
   ]
  },
  {
   "cell_type": "markdown",
   "metadata": {},
   "source": [
    "<img src='figuras/atributos-clases.png' width='300'/>\n",
    "<center> Tres clases y dos instancias. La clase 1 heredó sus propiedades de las clases 2 y 3. Las instancias también heredan sus propiedades de las 3 clases. Tomado de Mark Lutz (2013). _Learning Python_. O'Reilly Media. pp. 786 </center>"
   ]
  },
  {
   "cell_type": "code",
   "execution_count": 45,
   "metadata": {},
   "outputs": [],
   "source": [
    "class c2:    \n",
    "    x = 'Atributo x de la clase 2'\n",
    "    z = 'Atributo z de la clase 2'\n",
    "        \n",
    "class c3:\n",
    "    w = 'Atributo w de la clase 3'\n",
    "    z = 'Atributo z de la clase 3'\n",
    "        \n",
    "class c1 (c3, c2):\n",
    "    x = 'Atributo x de la clase 1'\n",
    "    y = 'Atributo y de la clase 1'\n",
    "        \n",
    "I1 = c1(); I2 = c1()"
   ]
  },
  {
   "cell_type": "code",
   "execution_count": 40,
   "metadata": {},
   "outputs": [
    {
     "data": {
      "text/plain": [
       "'nombre instancia 1'"
      ]
     },
     "execution_count": 40,
     "metadata": {},
     "output_type": "execute_result"
    }
   ],
   "source": [
    "I1.name = 'nombre instancia 1'\n",
    "I1.name"
   ]
  },
  {
   "cell_type": "markdown",
   "metadata": {},
   "source": [
    "<img src='figuras/atributos-clases.png' width='300'/>"
   ]
  },
  {
   "cell_type": "code",
   "execution_count": 46,
   "metadata": {},
   "outputs": [
    {
     "data": {
      "text/plain": [
       "'Atributo z de la clase 3'"
      ]
     },
     "execution_count": 46,
     "metadata": {},
     "output_type": "execute_result"
    }
   ],
   "source": [
    "I1.z"
   ]
  },
  {
   "cell_type": "code",
   "execution_count": 49,
   "metadata": {},
   "outputs": [
    {
     "data": {
      "text/plain": [
       "(__main__.c3, __main__.c2)"
      ]
     },
     "execution_count": 49,
     "metadata": {},
     "output_type": "execute_result"
    }
   ],
   "source": [
    "c1.__bases__ # Este método nos dice las superclases de una clase"
   ]
  },
  {
   "cell_type": "code",
   "execution_count": 57,
   "metadata": {},
   "outputs": [
    {
     "data": {
      "text/plain": [
       "(object,)"
      ]
     },
     "execution_count": 57,
     "metadata": {},
     "output_type": "execute_result"
    }
   ],
   "source": [
    "c = 2 + 3j\n",
    "str.__bases__"
   ]
  },
  {
   "cell_type": "code",
   "execution_count": 58,
   "metadata": {
    "collapsed": true
   },
   "outputs": [],
   "source": [
    "import numpy as np"
   ]
  },
  {
   "cell_type": "code",
   "execution_count": 63,
   "metadata": {},
   "outputs": [],
   "source": [
    "import inspect as ins"
   ]
  },
  {
   "cell_type": "code",
   "execution_count": 66,
   "metadata": {},
   "outputs": [
    {
     "data": {
      "text/plain": [
       "['AxisError',\n",
       " 'ComplexWarning',\n",
       " 'DataSource',\n",
       " 'MachAr',\n",
       " 'ModuleDeprecationWarning',\n",
       " 'RankWarning',\n",
       " 'TooHardError',\n",
       " 'VisibleDeprecationWarning',\n",
       " 'bool8',\n",
       " 'bool_',\n",
       " 'broadcast',\n",
       " 'busdaycalendar',\n",
       " 'byte',\n",
       " 'bytes0',\n",
       " 'bytes_',\n",
       " 'cdouble',\n",
       " 'cfloat',\n",
       " 'character',\n",
       " 'chararray',\n",
       " 'clongdouble',\n",
       " 'clongfloat',\n",
       " 'complex128',\n",
       " 'complex256',\n",
       " 'complex64',\n",
       " 'complex_',\n",
       " 'complexfloating',\n",
       " 'csingle',\n",
       " 'datetime64',\n",
       " 'double',\n",
       " 'dtype',\n",
       " 'errstate',\n",
       " 'finfo',\n",
       " 'flatiter',\n",
       " 'flexible',\n",
       " 'float128',\n",
       " 'float16',\n",
       " 'float32',\n",
       " 'float64',\n",
       " 'float_',\n",
       " 'floating',\n",
       " 'format_parser',\n",
       " 'generic',\n",
       " 'half',\n",
       " 'iinfo',\n",
       " 'inexact',\n",
       " 'int0',\n",
       " 'int16',\n",
       " 'int32',\n",
       " 'int64',\n",
       " 'int8',\n",
       " 'int_',\n",
       " 'intc',\n",
       " 'integer',\n",
       " 'intp',\n",
       " 'longcomplex',\n",
       " 'longdouble',\n",
       " 'longfloat',\n",
       " 'longlong',\n",
       " 'matrix',\n",
       " 'memmap',\n",
       " 'ndarray',\n",
       " 'ndenumerate',\n",
       " 'ndindex',\n",
       " 'nditer',\n",
       " 'number',\n",
       " 'object0',\n",
       " 'object_',\n",
       " 'poly1d',\n",
       " 'recarray',\n",
       " 'record',\n",
       " 'short',\n",
       " 'signedinteger',\n",
       " 'single',\n",
       " 'singlecomplex',\n",
       " 'str0',\n",
       " 'str_',\n",
       " 'string_',\n",
       " 'timedelta64',\n",
       " 'ubyte',\n",
       " 'ufunc',\n",
       " 'uint',\n",
       " 'uint0',\n",
       " 'uint16',\n",
       " 'uint32',\n",
       " 'uint64',\n",
       " 'uint8',\n",
       " 'uintc',\n",
       " 'uintp',\n",
       " 'ulonglong',\n",
       " 'unicode_',\n",
       " 'unsignedinteger',\n",
       " 'ushort',\n",
       " 'vectorize',\n",
       " 'void',\n",
       " 'void0']"
      ]
     },
     "execution_count": 66,
     "metadata": {},
     "output_type": "execute_result"
    }
   ],
   "source": [
    "[m[0] for m in ins.getmembers(np, ins.isclass) if m[1].__module__ == 'numpy']"
   ]
  },
  {
   "cell_type": "code",
   "execution_count": 83,
   "metadata": {},
   "outputs": [
    {
     "data": {
      "text/plain": [
       "'/home/nesper94/.local/lib/python3.5/site-packages/numpy/__init__.py'"
      ]
     },
     "execution_count": 83,
     "metadata": {},
     "output_type": "execute_result"
    }
   ],
   "source": [
    "np.__file__"
   ]
  },
  {
   "cell_type": "markdown",
   "metadata": {},
   "source": [
    "Mediante la herencia podemos modificar fácilmente nuestras clases:"
   ]
  },
  {
   "cell_type": "code",
   "execution_count": 89,
   "metadata": {
    "collapsed": true
   },
   "outputs": [],
   "source": [
    "class pollo_francés(pollo):\n",
    "    def nom(self):                         # Redefinimos el método nom\n",
    "        print(\"Je m'appelle\", self.nombre)"
   ]
  },
  {
   "cell_type": "code",
   "execution_count": 90,
   "metadata": {},
   "outputs": [
    {
     "name": "stdout",
     "output_type": "stream",
     "text": [
      "Soy tan viejo como 5.005690318999768 segundos\n",
      "Je m'appelle Laplace\n"
     ]
    }
   ],
   "source": [
    "l = pollo_francés('Laplace'); time.sleep(5) # Instanciamos la clase y esperamos 5 segundos\n",
    "l.edad(); l.nom()"
   ]
  },
  {
   "cell_type": "markdown",
   "metadata": {},
   "source": [
    "## Funcion input"
   ]
  },
  {
   "cell_type": "code",
   "execution_count": 97,
   "metadata": {},
   "outputs": [
    {
     "name": "stdout",
     "output_type": "stream",
     "text": [
      "Ingrese el numero:9\n"
     ]
    }
   ],
   "source": [
    "x = float(input('Ingrese el numero:'))"
   ]
  },
  {
   "cell_type": "code",
   "execution_count": 96,
   "metadata": {},
   "outputs": [
    {
     "data": {
      "text/plain": [
       "10.0"
      ]
     },
     "execution_count": 96,
     "metadata": {},
     "output_type": "execute_result"
    }
   ],
   "source": [
    "x"
   ]
  },
  {
   "cell_type": "code",
   "execution_count": 98,
   "metadata": {
    "collapsed": true
   },
   "outputs": [],
   "source": [
    "class empleado:\n",
    "    def __init__(self):\n",
    "        self.nombre = input('Ingrese el nombre del empleado:')\n",
    "        self.salario = int(input('Ingrese el salario:'))\n",
    "        \n",
    "    def aumento(self):\n",
    "        self.salario *= 1.10"
   ]
  },
  {
   "cell_type": "code",
   "execution_count": 101,
   "metadata": {},
   "outputs": [
    {
     "name": "stdout",
     "output_type": "stream",
     "text": [
      "Ingrese el nombre del empleado:Juanito\n",
      "Ingrese el salario:900000\n"
     ]
    }
   ],
   "source": [
    "e = empleado()"
   ]
  },
  {
   "cell_type": "code",
   "execution_count": 102,
   "metadata": {},
   "outputs": [
    {
     "data": {
      "text/plain": [
       "900000"
      ]
     },
     "execution_count": 102,
     "metadata": {},
     "output_type": "execute_result"
    }
   ],
   "source": [
    "e.salario"
   ]
  },
  {
   "cell_type": "code",
   "execution_count": 103,
   "metadata": {},
   "outputs": [
    {
     "data": {
      "text/plain": [
       "990000.0000000001"
      ]
     },
     "execution_count": 103,
     "metadata": {},
     "output_type": "execute_result"
    }
   ],
   "source": [
    "e.aumento()\n",
    "e.salario"
   ]
  },
  {
   "cell_type": "markdown",
   "metadata": {},
   "source": [
    "<h1><center>\n",
    "<a name='try-except'></a>\n",
    "try - except </center></h1>"
   ]
  },
  {
   "cell_type": "code",
   "execution_count": 104,
   "metadata": {
    "collapsed": true
   },
   "outputs": [],
   "source": [
    "def sumar(x,y):\n",
    "    return x + y"
   ]
  },
  {
   "cell_type": "code",
   "execution_count": 106,
   "metadata": {},
   "outputs": [
    {
     "ename": "TypeError",
     "evalue": "unsupported operand type(s) for +: 'int' and 'str'",
     "output_type": "error",
     "traceback": [
      "\u001b[0;31m---------------------------------------------------------------------------\u001b[0m",
      "\u001b[0;31mTypeError\u001b[0m                                 Traceback (most recent call last)",
      "\u001b[0;32m<ipython-input-106-e8335669e766>\u001b[0m in \u001b[0;36m<module>\u001b[0;34m\u001b[0m\n\u001b[0;32m----> 1\u001b[0;31m \u001b[0msumar\u001b[0m\u001b[0;34m(\u001b[0m\u001b[0;36m1\u001b[0m\u001b[0;34m,\u001b[0m\u001b[0;34m'p'\u001b[0m\u001b[0;34m)\u001b[0m\u001b[0;34m\u001b[0m\u001b[0m\n\u001b[0m",
      "\u001b[0;32m<ipython-input-104-66ea363da0e9>\u001b[0m in \u001b[0;36msumar\u001b[0;34m(x, y)\u001b[0m\n\u001b[1;32m      1\u001b[0m \u001b[0;32mdef\u001b[0m \u001b[0msumar\u001b[0m\u001b[0;34m(\u001b[0m\u001b[0mx\u001b[0m\u001b[0;34m,\u001b[0m\u001b[0my\u001b[0m\u001b[0;34m)\u001b[0m\u001b[0;34m:\u001b[0m\u001b[0;34m\u001b[0m\u001b[0m\n\u001b[0;32m----> 2\u001b[0;31m     \u001b[0;32mreturn\u001b[0m \u001b[0mx\u001b[0m \u001b[0;34m+\u001b[0m \u001b[0my\u001b[0m\u001b[0;34m\u001b[0m\u001b[0m\n\u001b[0m",
      "\u001b[0;31mTypeError\u001b[0m: unsupported operand type(s) for +: 'int' and 'str'"
     ]
    }
   ],
   "source": [
    "sumar(1,'p')"
   ]
  },
  {
   "cell_type": "code",
   "execution_count": 27,
   "metadata": {},
   "outputs": [],
   "source": [
    "def sumar(x,y):\n",
    "    try:\n",
    "        return x + y\n",
    "    except:\n",
    "        print('¡Eso no se puede sumar!')"
   ]
  },
  {
   "cell_type": "code",
   "execution_count": 28,
   "metadata": {},
   "outputs": [
    {
     "data": {
      "text/plain": [
       "10"
      ]
     },
     "execution_count": 28,
     "metadata": {},
     "output_type": "execute_result"
    }
   ],
   "source": [
    "sumar(9,1)"
   ]
  },
  {
   "cell_type": "code",
   "execution_count": 29,
   "metadata": {},
   "outputs": [
    {
     "name": "stdout",
     "output_type": "stream",
     "text": [
      "¡Eso no se puede sumar!\n"
     ]
    }
   ],
   "source": [
    "sumar(5,'x')"
   ]
  },
  {
   "cell_type": "code",
   "execution_count": null,
   "metadata": {
    "collapsed": true
   },
   "outputs": [],
   "source": [
    "def sumar(x,y):\n",
    "    try:\n",
    "        return x + y\n",
    "    except:\n",
    "        print('Estos elementos no se pueden sumar.')"
   ]
  },
  {
   "cell_type": "markdown",
   "metadata": {},
   "source": [
    "<h1><center><a name='assert'></a>\n",
    "assert </center></h1>\n"
   ]
  },
  {
   "cell_type": "code",
   "execution_count": null,
   "metadata": {
    "collapsed": true
   },
   "outputs": [],
   "source": []
  },
  {
   "cell_type": "markdown",
   "metadata": {},
   "source": [
    "# Ejemplo de Python, el algoritmo de Gillespie y la cinética de Michaelis-Menten"
   ]
  },
  {
   "cell_type": "code",
   "execution_count": 163,
   "metadata": {
    "collapsed": true
   },
   "outputs": [],
   "source": [
    "from numpy import random, log\n",
    "import matplotlib.pyplot as plt\n",
    "\n",
    "def michaelis_menten(tf=50,enz=200,sus=500,kf=0.001,kr=0.0001,kcat=0.1,p=0,es=0):  # Aquí estamos definiendo una función (de ahí el 'def')\n",
    "    # llamada 'gillespie', que necesita como argumentos 3 valores: tf\n",
    "    # (el tiempo que deseamos simular), enzima (concentración inicial de la enzima) y sustrato (concentración inicial del sustrato).\n",
    "    \n",
    "    '''Algoritmo de Gillespie para la simulación estocástica de la cinética enzimática de Michaelis-Menten.\n",
    "    \n",
    "    Parámetros\n",
    "    ----------\n",
    "    tf:     Tiempo de simulación.\n",
    "    enz:    Concentración inicial de enzima.\n",
    "    sus:    Concentración inicial de sustrato.\n",
    "    kf:     Constante de formación del complejo enzima-sustrato.\n",
    "    kr:     Constante de disociación del complejo enzima-sustrato.\n",
    "    kcat:   Constante de catálisis de la enzima.\n",
    "    p:      Concentración inicial del producto.\n",
    "    es:     Concentración inicial del complejo enzima-sustrato.\n",
    "    ---\n",
    "    «Es como cuando tú tienes un camello, darle comida, qué camello.»\n",
    "    ---\n",
    "    '''\n",
    "   \n",
    "    t = 0\n",
    "    enzima = [enz] # Aquí creamos una lista llamada 'enzima', por ahora con un único valor que será 'e'.\n",
    "    sustrato = [sus] # Esta lista y las que siguen son lo mismo pero para cada molécula y cada tiempo.\n",
    "    complejo = [es]\n",
    "    producto = [p]\n",
    "    tiempo = [t]\n",
    "    \n",
    "    while (t < tf):\n",
    "        a1 = kf*enz*sus\n",
    "        a2 = kr*es\n",
    "        a3 = kcat*es\n",
    "        a0 = a1 + a2 + a3\n",
    "        \n",
    "        t = t + random.exponential(1/a0)\n",
    "        #t = t + 1/a0\n",
    "        r = random.random()\n",
    "        \n",
    "        if 0 < r < (a1/a0):\n",
    "            enz -= 1\n",
    "            sus -= 1\n",
    "            es += 1\n",
    "            enzima.append(enz)\n",
    "            sustrato.append(sus)\n",
    "            complejo.append(es)\n",
    "            producto.append(p)\n",
    "            tiempo.append(t)\n",
    "            \n",
    "        elif (a1/a0) < r < ((a1+a2)/a0):\n",
    "            enz += 1\n",
    "            sus += 1\n",
    "            es -= 1\n",
    "            enzima.append(enz)\n",
    "            sustrato.append(sus)\n",
    "            complejo.append(es)\n",
    "            producto.append(p)\n",
    "            tiempo.append(t)\n",
    "            \n",
    "        else:\n",
    "            enz += 1\n",
    "            p += 1\n",
    "            es -= 1\n",
    "            enzima.append(enz)\n",
    "            sustrato.append(sus)\n",
    "            complejo.append(es)\n",
    "            producto.append(p)\n",
    "            tiempo.append(t)\n",
    "        \n",
    "    plt.plot(tiempo, enzima, 'b',label='Enzima')\n",
    "    plt.plot(tiempo, sustrato, 'yellowgreen',label='Sustrato')\n",
    "    plt.plot(tiempo, complejo, 'cyan',label='Complejo')\n",
    "    plt.plot(tiempo, producto, 'red',label='Producto')\n",
    "    plt.legend(loc=9)\n",
    "    plt.show()\n",
    "    \n",
    "    #plt.scatter(tiempo, enzima,label='Enzima')\n",
    "    #plt.scatter(tiempo, sustrato,label='Sustrato')\n",
    "    #plt.scatter(tiempo, complejo,label='Complejo')\n",
    "    #plt.scatter(tiempo, producto,label='Producto')\n",
    "    #plt.legend(loc=9)\n",
    "    #plt.show()"
   ]
  },
  {
   "cell_type": "code",
   "execution_count": 169,
   "metadata": {},
   "outputs": [
    {
     "data": {
      "image/png": "[encoded data removed]",
      "text/plain": [
       "<Figure size 432x288 with 1 Axes>"
      ]
     },
     "metadata": {
      "needs_background": "light"
     },
     "output_type": "display_data"
    }
   ],
   "source": [
    "michaelis_menten(tf=70)"
   ]
  },
  {
   "cell_type": "code",
   "execution_count": null,
   "metadata": {
    "collapsed": true
   },
   "outputs": [],
   "source": []
  }
 ],
 "metadata": {
  "kernelspec": {
   "display_name": "Python 3",
   "language": "python",
   "name": "python3"
  },
  "language_info": {
   "codemirror_mode": {
    "name": "ipython",
    "version": 3
   },
   "file_extension": ".py",
   "mimetype": "text/x-python",
   "name": "python",
   "nbconvert_exporter": "python",
   "pygments_lexer": "ipython3",
   "version": "3.6.9"
  }
 },
 "nbformat": 4,
 "nbformat_minor": 2
}
